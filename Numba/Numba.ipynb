{
 "cells": [
  {
   "cell_type": "code",
   "execution_count": 1,
   "metadata": {
    "collapsed": false
   },
   "outputs": [],
   "source": [
    "from numba import float32, complex64, guvectorize, jit, autojit, cuda\n",
    "import numpy as np\n",
    "%load_ext line_profiler\n",
    "%load_ext autoreload\n",
    "%autoreload 2"
   ]
  },
  {
   "cell_type": "code",
   "execution_count": null,
   "metadata": {
    "collapsed": false
   },
   "outputs": [],
   "source": [
    "#@autojit\n",
    "def lst_grid(lsts, data, wgts=None, lstbins=6300, wgtfunc=lambda dt,res: np.exp(-dt**2/(2*res**2))):\n",
    "    lstgrid = np.linspace(0, 2*np.pi, lstbins)\n",
    "    lstres = lstgrid[1]-lstgrid[0]\n",
    "    if wgts is None: wgts = np.where(np.abs(data) == 0, 0, 1.)\n",
    "    sumgrid,wgtgrid = 0, 0\n",
    "    for lst,d,w in zip(lsts,data,wgts):\n",
    "        dt = lstgrid - lst\n",
    "        wf = wgtfunc(dt,lstres); wf.shape = (-1,) + (1,)*(data.ndim-1)\n",
    "        d.shape, w.shape = (1,-1), (1,-1)\n",
    "        #print lst, dt\n",
    "        wgtgrid += w * wf\n",
    "        sumgrid += d * w * wf \n",
    "    datgrid = np.where(wgtgrid > 1e-10, sumgrid/wgtgrid, 0)\n",
    "    #print('real', datgrid)\n",
    "    return lstgrid, datgrid, wgtgrid\n",
    "@guvectorize([(float32[:], float32[:,:],float32[:,:], float32[:,:])], '(n),(n,m)->(n,m),(n,m)')\n",
    "def g_cpu(lsts, data, lstsg, datag):\n",
    "    lstsg, datag, _ = lst_grid(lsts, data)\n",
    "    #lstsg, datag = lsts, data"
   ]
  },
  {
   "cell_type": "code",
   "execution_count": null,
   "metadata": {
    "collapsed": false
   },
   "outputs": [],
   "source": [
    "def glst_grid(lsts, data, wgts=None, lstbins=100, wgtfunc=lambda dt,res: np.exp(-dt**2/(2*res**2))):\n",
    "    lstgrid = np.linspace(0, 2*np.pi, lstbins).astype(np.float32)\n",
    "    if wgts is None: wgts = np.where(np.abs(data) == 0, 0, 1.).astype(np.float32)\n",
    "    datwgt = g(lsts, lstgrid, np.vstack([data, wgts]))\n",
    "    datgrid = datwgt[:lstbins]\n",
    "    wgtgrid = datwgt[lstbins:]\n",
    "    \n",
    "    print('f', datwgt)\n",
    "    lstgrid = np.linspace(0, 2*np.pi, lstbins).astype(np.float32)\n",
    "    return lstgrid, datgrid, wgtgrid\n",
    "\n",
    "@guvectorize([(float32[:], float32[:],float32[:,:], float32[:,:])], '(n),(n),(p,m)->(p,m)', target='cuda')\n",
    "def g(lsts, lstgrid, datwgts, out):\n",
    "    lstbins=100\n",
    "    lstres = lstgrid[1]-lstgrid[0]\n",
    "    data = datwgts[:lstbins]\n",
    "    wgts = datwgts[lstbins:]\n",
    "    sumgrid,wgtgrid = 0, 0\n",
    "    #wgtfunc=lambda dt,res: np.exp(-dt**2/(2*res**2))\n",
    "    for lst,d,w in zip(lsts,data,wgts):\n",
    "        dt = lstgrid - lst\n",
    "        #wf = wgtfunc(dt,lstres); wf.shape = (-1,) + (1,)*(data.ndim-1)\n",
    "        wf = np.exp(-dt**2/(2*lstres**2)); wf.shape = (-1,) + (1,)*(data.ndim-1)\n",
    "        d.shape, w.shape = (1,-1), (1,-1)\n",
    "        #print lst, dt\n",
    "        wgtgrid += w * wf\n",
    "        sumgrid += d * w * wf \n",
    "    datgrid = np.where(wgtgrid > 1e-10, sumgrid/wgtgrid, 0)\n",
    "    out = np.vstack([datgrid, wgtgrid])\n",
    "    print('?',out[:lstbins])\n",
    "    print(lsts.shape, datwgts.shape, out.shape)\n",
    "    #lstsg, datag = lsts, data"
   ]
  },
  {
   "cell_type": "code",
   "execution_count": null,
   "metadata": {
    "collapsed": false
   },
   "outputs": [],
   "source": [
    "lsts = np.linspace(0, 6.28, 100, dtype=np.float32)\n",
    "data = np.random.rand(100, 51).astype(np.float32)"
   ]
  },
  {
   "cell_type": "code",
   "execution_count": null,
   "metadata": {
    "collapsed": false
   },
   "outputs": [],
   "source": [
    "out = np.zeros_like(data)\n",
    "#a,b,c = glst_grid(lsts, data,lstbins=100)\n",
    "%timeit aa,bb,cc = lst_grid(lsts, data,lstbins=100)"
   ]
  },
  {
   "cell_type": "code",
   "execution_count": null,
   "metadata": {
    "collapsed": false
   },
   "outputs": [],
   "source": [
    "%%file basic.py\n",
    "import numpy as np\n",
    "def lst_grid(lsts, data, wgts=None, lstbins=6300, wgtfunc=lambda dt,res: np.exp(-dt**2/(2*res**2))):\n",
    "    lstgrid = np.linspace(0, 2*np.pi, lstbins)\n",
    "    lstres = lstgrid[1]-lstgrid[0]\n",
    "    if wgts is None: wgts = np.where(np.abs(data) == 0, 0, 1.)\n",
    "    sumgrid,wgtgrid = 0, 0\n",
    "    for lst,d,w in zip(lsts,data,wgts):\n",
    "        dt = lstgrid - lst\n",
    "        wf = wgtfunc(dt,lstres); wf.shape = (-1,) + (1,)*(data.ndim-1)\n",
    "        d.shape, w.shape = (1,-1), (1,-1)\n",
    "        #print lst, dt\n",
    "        wgtgrid += w * wf\n",
    "        sumgrid += d * w * wf \n",
    "    datgrid = np.where(wgtgrid > 1e-10, sumgrid/wgtgrid, 0)\n",
    "    #print('real', datgrid)\n",
    "    return lstgrid, datgrid, wgtgrid\n",
    "lsts = np.linspace(0, 6.28, 100, dtype=np.float32)\n",
    "data = np.random.rand(100, 51).astype(np.float32)\n",
    "def execute():\n",
    "    aa,bb,cc = lst_grid(lsts, data,lstbins=100)"
   ]
  },
  {
   "cell_type": "code",
   "execution_count": null,
   "metadata": {
    "collapsed": false
   },
   "outputs": [],
   "source": [
    "import basic\n",
    "%lprun -f basic.lst_grid basic.execute()"
   ]
  },
  {
   "cell_type": "code",
   "execution_count": null,
   "metadata": {
    "collapsed": false
   },
   "outputs": [],
   "source": []
  },
  {
   "cell_type": "code",
   "execution_count": 7,
   "metadata": {
    "collapsed": false
   },
   "outputs": [
    {
     "name": "stderr",
     "output_type": "stream",
     "text": [
      "/home/yunfanz/anaconda3/envs/envPAPER/lib/python2.7/site-packages/numba/cuda/compiler.py:233: UserWarning: Could not autotune, using default tpb of 128\n",
      "  warnings.warn('Could not autotune, using default tpb of 128')\n"
     ]
    },
    {
     "name": "stdout",
     "output_type": "stream",
     "text": [
      "1000 loops, best of 3: 1.4 ms per loop\n"
     ]
    }
   ],
   "source": [
    "import numpy as np\n",
    "from numba import guvectorize, cuda\n",
    "\n",
    "@guvectorize(['void(float64[:], intp[:], float64[:])'], '(n),(m)->(n)', target='cuda')\n",
    "def move_mean(a, window_arr, out):\n",
    "    window_width = window_arr[0]\n",
    "    asum = 0.0\n",
    "    count = 0\n",
    "    for i in range(window_width):\n",
    "        asum += a[i]\n",
    "        count += 1\n",
    "        out[i] = asum / count\n",
    "    for i in range(window_width, len(a)):\n",
    "        asum += a[i] - a[i - window_width]\n",
    "        out[i] = asum / count\n",
    "\n",
    "arr = np.arange(2000, dtype=np.float64).reshape(200, 10)\n",
    "#print arr \n",
    "%timeit move_mean(arr,np.array([10]))"
   ]
  },
  {
   "cell_type": "code",
   "execution_count": null,
   "metadata": {
    "collapsed": false
   },
   "outputs": [],
   "source": [
    "from __future__ import print_function\n",
    "\n",
    "import sys\n",
    "\n",
    "import numpy as np\n",
    "\n",
    "from numba import guvectorize, cuda\n",
    "\n",
    "if sys.version_info[0] == 2:\n",
    "    range = xrange\n",
    "\n",
    "# Controls whether to manually handle CUDA memory allocation or not.\n",
    "MANAGE_CUDA_MEMORY = True\n",
    "\n",
    "#    function type:\n",
    "#        - has no void return type\n",
    "#        - array argument is one dimenion fewer than the source array\n",
    "#        - scalar output is passed as a 1-element array.\n",
    "#\n",
    "#    signature: (n)->()\n",
    "#        - the function takes an array of n-element and output a scalar.\n",
    "\n",
    "@guvectorize(['void(int32[:], int32[:])'], '(n)->()', target='cuda')\n",
    "def sum_row(inp, out):\n",
    "    tmp = 0.\n",
    "    for i in range(inp.shape[0]):\n",
    "        tmp += inp[i]\n",
    "    out[0] = tmp\n",
    "\n",
    "# inp is (10000, 3)\n",
    "# out is (10000)\n",
    "# The outter (leftmost) dimension must match or numpy broadcasting is performed.\n",
    "# But, broadcasting on CUDA arrays is not supported.\n",
    "\n",
    "inp = np.arange(30000, dtype=np.int32).reshape(10000, 3)\n",
    "\n",
    "\n",
    "if MANAGE_CUDA_MEMORY:\n",
    "    # invoke on CUDA with manually managed memory\n",
    "    out = np.empty(10000, dtype=inp.dtype)\n",
    "\n",
    "    dev_inp = cuda.to_device(inp)             # alloc and copy input data\n",
    "    dev_out = cuda.to_device(out, copy=False) # alloc only\n",
    "\n",
    "    sum_row(dev_inp, out=dev_out)             # invoke the gufunc\n",
    "\n",
    "    dev_out.copy_to_host(out)                 # retrieve the result\n",
    "else:\n",
    "    # Manually managing the CUDA allocation is optional, but recommended\n",
    "    # for maximum performance.\n",
    "    out = sum_row(inp)\n",
    "\n",
    "# verify result\n",
    "goal = np.empty_like(out)\n",
    "for i in range(inp.shape[0]):\n",
    "    assert out[i] == inp[i].sum()\n",
    "\n",
    "# print out\n",
    "print('input'.center(80, '-'))\n",
    "print(inp)\n",
    "print('output'.center(80, '-'))\n",
    "print(out)"
   ]
  },
  {
   "cell_type": "code",
   "execution_count": 23,
   "metadata": {
    "collapsed": false
   },
   "outputs": [
    {
     "name": "stdout",
     "output_type": "stream",
     "text": [
      "1 loop, best of 3: 12.6 s per loop\n",
      "10 loops, best of 3: 40.7 ms per loop\n"
     ]
    }
   ],
   "source": [
    "from numba import guvectorize\n",
    "from numpy import arange\n",
    "\n",
    "@guvectorize(['void(float32[:,:], float32[:,:], float32[:,:])'],\n",
    "             '(m,n),(n,p)->(m,p)', target='parallel')\n",
    "def matmul(A, B, C):\n",
    "    m, n = A.shape\n",
    "    n, p = B.shape\n",
    "    for i in range(m):\n",
    "        for j in range(p):\n",
    "            C[i, j] = 0\n",
    "            for k in range(n):\n",
    "                C[i, j] += A[i, k] * B[k, j]\n",
    "\n",
    "w = 2000\n",
    "A = arange(w**2).reshape(w, w).astype(np.float32)\n",
    "B = arange(w**2).reshape(w, w).astype(np.float32)\n",
    "%timeit C = matmul(A, B)\n",
    "%timeit C = np.dot(A,B)"
   ]
  },
  {
   "cell_type": "code",
   "execution_count": 4,
   "metadata": {
    "collapsed": false
   },
   "outputs": [
    {
     "name": "stdout",
     "output_type": "stream",
     "text": [
      "1 loop, best of 3: 1.13 s per loop\n"
     ]
    }
   ],
   "source": [
    "from numba import jit, vectorize, guvectorize, float64, complex64, int32, float32\n",
    "\n",
    "@jit(int32(complex64, int32))\n",
    "def mandelbrot(c,maxiter):\n",
    "    nreal = 0\n",
    "    real = 0\n",
    "    imag = 0\n",
    "    for n in range(maxiter):\n",
    "        nreal = real*real - imag*imag + c.real\n",
    "        imag = 2* real*imag + c.imag\n",
    "        real = nreal;\n",
    "        if real * real + imag * imag > 4.0:\n",
    "            return n\n",
    "    return 0\n",
    "\n",
    "@guvectorize([(complex64[:], int32[:], int32[:])], '(n),()->(n)',target='parallel')\n",
    "def mandelbrot_numpy(c, maxit, output):\n",
    "    maxiter = maxit[0]\n",
    "    for i in range(c.shape[0]):\n",
    "        output[i] = mandelbrot(c[i],maxiter)\n",
    "        \n",
    "def mandelbrot_set(xmin,xmax,ymin,ymax,width,height,maxiter):\n",
    "    r1 = np.linspace(xmin, xmax, width, dtype=np.float32)\n",
    "    r2 = np.linspace(ymin, ymax, height, dtype=np.float32)\n",
    "    c = r1 + r2[:,None]*1j\n",
    "    n3 = mandelbrot_numpy(c,maxiter)\n",
    "    return (r1,r2,n3.T) \n",
    "%timeit mandelbrot_set(-0.74877,-0.74872,0.06505,0.06510,1000,1000,2048)"
   ]
  },
  {
   "cell_type": "code",
   "execution_count": 5,
   "metadata": {
    "collapsed": false
   },
   "outputs": [
    {
     "name": "stdout",
     "output_type": "stream",
     "text": [
      "1 loop, best of 3: 533 ms per loop\n"
     ]
    }
   ],
   "source": [
    "@guvectorize([(complex64[:], int32[:], int32[:])], '(n),(n)->(n)', target='cuda')\n",
    "def mandelbrot_numpy(c, maxit, output):\n",
    "    maxiter = maxit[0]\n",
    "    for i in range(c.shape[0]):\n",
    "        creal = c[i].real\n",
    "        cimag = c[i].imag\n",
    "        real = creal\n",
    "        imag = cimag\n",
    "        output[i] = 0\n",
    "        for n in range(maxiter):\n",
    "            real2 = real*real\n",
    "            imag2 = imag*imag\n",
    "            if real2 + imag2 > 4.0:\n",
    "                output[i] = n\n",
    "                break\n",
    "            imag = 2* real*imag + cimag\n",
    "            real = real2 - imag2 + creal\n",
    "            \n",
    "        \n",
    "def mandelbrot_set(xmin,xmax,ymin,ymax,width,height,maxiter):\n",
    "    r1 = np.linspace(xmin, xmax, width, dtype=np.float32)\n",
    "    r2 = np.linspace(ymin, ymax, height, dtype=np.float32)\n",
    "    c = r1 + r2[:,None]*1j\n",
    "    n3 = np.empty(c.shape, int)\n",
    "    maxit = np.ones(c.shape, int) * maxiter\n",
    "    n3 = mandelbrot_numpy(c,maxit)\n",
    "    return (r1,r2,n3.T) \n",
    "%timeit mandelbrot_set(-0.74877,-0.74872,0.06505,0.06510,1000,1000,2048)"
   ]
  },
  {
   "cell_type": "code",
   "execution_count": 6,
   "metadata": {
    "collapsed": false
   },
   "outputs": [
    {
     "name": "stdout",
     "output_type": "stream",
     "text": [
      "10 loops, best of 3: 45.5 ms per loop\n"
     ]
    }
   ],
   "source": [
    "import pycuda.driver as drv\n",
    "import pycuda.tools\n",
    "import pycuda.autoinit\n",
    "from pycuda.compiler import SourceModule\n",
    "import pycuda.gpuarray as gpuarray\n",
    "from pycuda.elementwise import ElementwiseKernel\n",
    "complex_gpu = ElementwiseKernel(\n",
    "    \"pycuda::complex<float> *q, int *output, int maxiter\",\n",
    "    \"\"\"\n",
    "    {\n",
    "        float nreal, real = 0;\n",
    "        float imag = 0;\n",
    "        output[i] = 0;\n",
    "        for(int curiter = 0; curiter < maxiter; curiter++) {\n",
    "            float real2 = real*real;\n",
    "            float imag2 = imag*imag;\n",
    "            nreal = real2 - imag2 + q[i].real();\n",
    "            imag = 2* real*imag + q[i].imag();\n",
    "            real = nreal;\n",
    "            if (real2 + imag2 > 4.0f){\n",
    "                output[i] = curiter;\n",
    "                break;\n",
    "                };\n",
    "        };\n",
    "    }\n",
    "    \"\"\",\n",
    "    \"complex5\",\n",
    "    preamble=\"#include <pycuda-complex.hpp>\",)\n",
    "\n",
    "def mandelbrot_gpu(c, maxiter):\n",
    "    q_gpu = gpuarray.to_gpu(c.astype(np.complex64))\n",
    "    iterations_gpu = gpuarray.to_gpu(np.empty(c.shape, dtype=np.int))\n",
    "    complex_gpu(q_gpu, iterations_gpu, maxiter)\n",
    "\n",
    "    return iterations_gpu.get()\n",
    "def mandelbrot_set(xmin,xmax,ymin,ymax,width,height,maxiter):\n",
    "    r1 = np.linspace(xmin, xmax, width, dtype=np.float32)\n",
    "    r2 = np.linspace(ymin, ymax, height, dtype=np.float32)\n",
    "    c = r1 + r2[:,None]*1j\n",
    "#     n3 = np.empty(c.shape, int)\n",
    "#     maxit = np.ones(c.shape, int) * maxiter\n",
    "    n3 = mandelbrot_gpu(c,maxiter)\n",
    "    return (r1,r2,n3.T) \n",
    "%timeit mandelbrot_set(-0.74877,-0.74872,0.06505,0.06510,1000,1000,2048)"
   ]
  },
  {
   "cell_type": "code",
   "execution_count": null,
   "metadata": {
    "collapsed": true
   },
   "outputs": [],
   "source": [
    "import pycuda.driver as drv\n",
    "import pycuda.tools\n",
    "import pycuda.autoinit\n",
    "from pycuda.compiler import SourceModule\n",
    "import pycuda.gpuarray as gpuarray\n",
    "from pycuda.elementwise import ElementwiseKernel\n",
    "mod = SourceModule(\"\"\"\n",
    "    __global__ void step(\"float *lsts, float *lstg, pycuda::complex<float> *datas, float *wgts, pycuda::complex<float> *wgtg, pycuda::complex<float> *sumg\")\n",
    "    {\n",
    "        float lstres = lstg[1]-lstg[0]\n",
    "        int bx = blockInd.x\n",
    "        \n",
    "        output[i] = 0;\n",
    "        for(int curiter = 0; curiter < maxiter; curiter++) {\n",
    "            float real2 = real*real;\n",
    "            float imag2 = imag*imag;\n",
    "            nreal = real2 - imag2 + q[i].real();\n",
    "            imag = 2* real*imag + q[i].imag();\n",
    "            real = nreal;\n",
    "            if (real2 + imag2 > 4.0f){\n",
    "                output[i] = curiter;\n",
    "                break;\n",
    "                };\n",
    "        };\n",
    "    }\n",
    "    \"\"\",\n",
    "    preamble=\"#include <pycuda-complex.hpp>\",)\n",
    "\n",
    "def _pass_gpu(lsts, lstgrid, data, wgts, wgtfunc):\n",
    "    lsts_gpu = gpuarray.to_gpu(lsts.astype(np.float32))\n",
    "    lstgrid_gpu = gpuarray.to_gpu(lstgrid.astype(np.float32))\n",
    "    data_gpu = gpuarray.to_gpu(data.astype(np.complex64))\n",
    "    wgts_gpu = gpuarray.to_gpu(wgts.astype(np.float32))\n",
    "    wgtfunc_gpu = gpuarray.to_gpu(wgtfunc.astype(np.float32))\n",
    "    wgtgrid_gpu = gpuarray.to_gpu(np.empty((lstgrid.shape[0], data.shape[1]), dtype=np.float32))\n",
    "    sumgrid_gpu = gpuarray.to_gpu(np.empty((lstgrid.shape[0], data.shape[1]), dtype=np.complex64))\n",
    "    \n",
    "def lst_grid_pycuda(lsts, data, wgts=None, lstbins=6300, wgtfunc=lambda dt,res: np.exp(-dt**2/(2*res**2))):\n",
    "    lstgrid = np.linspace(0, 2*np.pi, lstbins)\n",
    "    lstres = lstgrid[1]-lstgrid[0]\n",
    "    if wgts is None: wgts = np.where(np.abs(data) == 0, 0, 1.)\n",
    "    dt = lstgrid.reshape((1,-1))-lst.reshape((-1,1))\n",
    "    wf = wgtfunc(dt,lstres)\n",
    "    sumgrid,wgtgrid = 0, 0\n",
    "    for lst,d,w in zip(lsts,data,wgts):\n",
    "        dt = lstgrid - lst\n",
    "        wf = wgtfunc(dt,lstres); wf.shape = (-1,) + (1,)*(data.ndim-1)\n",
    "        d.shape, w.shape = (1,-1), (1,-1)\n",
    "        #print lst, dt\n",
    "        wgtgrid += w * wf\n",
    "        sumgrid += d * w * wf \n",
    "    datgrid = np.where(wgtgrid > 1e-10, sumgrid/wgtgrid, 0)\n",
    "    #print('real', datgrid)\n",
    "    return lstgrid, datgrid, wgtgrid\n",
    "@guvectorize([(float32[:], float32[:,:],float32[:,:], float32[:,:])], '(n),(n,m)->(n,m),(n,m)')\n",
    "def g_cpu(lsts, data, lstsg, datag):\n",
    "    lstsg, datag, _ = lst_grid(lsts, data)\n",
    "    #lstsg, datag = lsts, data"
   ]
  },
  {
   "cell_type": "code",
   "execution_count": 40,
   "metadata": {
    "collapsed": false
   },
   "outputs": [
    {
     "ename": "TypeError",
     "evalue": "scalar type float32 given for non scalar argument #1",
     "output_type": "error",
     "traceback": [
      "\u001b[0;31m---------------------------------------------------------------------------\u001b[0m",
      "\u001b[0;31mTypeError\u001b[0m                                 Traceback (most recent call last)",
      "\u001b[0;32m<ipython-input-40-8ab94b572740>\u001b[0m in \u001b[0;36m<module>\u001b[0;34m()\u001b[0m\n\u001b[1;32m      5\u001b[0m     \u001b[0;32mfor\u001b[0m \u001b[0mddt\u001b[0m \u001b[0;32min\u001b[0m \u001b[0mdt\u001b[0m\u001b[0;34m:\u001b[0m\u001b[0;34m\u001b[0m\u001b[0m\n\u001b[1;32m      6\u001b[0m         \u001b[0mtemp\u001b[0m\u001b[0;34m=\u001b[0m \u001b[0mnp\u001b[0m\u001b[0;34m.\u001b[0m\u001b[0mexp\u001b[0m\u001b[0;34m(\u001b[0m\u001b[0;34m-\u001b[0m\u001b[0mddt\u001b[0m\u001b[0;34m**\u001b[0m\u001b[0;36m2\u001b[0m\u001b[0;34m/\u001b[0m\u001b[0;34m(\u001b[0m\u001b[0;36m2\u001b[0m\u001b[0;34m*\u001b[0m\u001b[0mres\u001b[0m\u001b[0;34m**\u001b[0m\u001b[0;36m2\u001b[0m\u001b[0;34m)\u001b[0m\u001b[0;34m)\u001b[0m\u001b[0;34m\u001b[0m\u001b[0m\n\u001b[0;32m----> 7\u001b[0;31m \u001b[0;34m@\u001b[0m\u001b[0mguvectorize\u001b[0m\u001b[0;34m(\u001b[0m\u001b[0;34m[\u001b[0m\u001b[0;34m(\u001b[0m\u001b[0mfloat32\u001b[0m\u001b[0;34m,\u001b[0m \u001b[0mfloat32\u001b[0m\u001b[0;34m)\u001b[0m\u001b[0;34m]\u001b[0m\u001b[0;34m,\u001b[0m \u001b[0;34m'(n,m), (p)'\u001b[0m\u001b[0;34m)\u001b[0m\u001b[0;34m\u001b[0m\u001b[0m\n\u001b[0m\u001b[1;32m      8\u001b[0m \u001b[0;32mdef\u001b[0m \u001b[0mvec_wgtfunc\u001b[0m\u001b[0;34m(\u001b[0m\u001b[0mdt\u001b[0m\u001b[0;34m,\u001b[0m \u001b[0mres\u001b[0m\u001b[0;34m)\u001b[0m\u001b[0;34m:\u001b[0m\u001b[0;34m\u001b[0m\u001b[0m\n\u001b[1;32m      9\u001b[0m     \u001b[0;32mfor\u001b[0m \u001b[0mddt\u001b[0m \u001b[0;32min\u001b[0m \u001b[0mdt\u001b[0m\u001b[0;34m:\u001b[0m\u001b[0;34m\u001b[0m\u001b[0m\n",
      "\u001b[0;32m/home/yunfanz/anaconda3/envs/envPAPER/lib/python2.7/site-packages/numba/npyufunc/decorators.pyc\u001b[0m in \u001b[0;36mwrap\u001b[0;34m(func)\u001b[0m\n\u001b[1;32m    164\u001b[0m         \u001b[0;32mfor\u001b[0m \u001b[0mfty\u001b[0m \u001b[0;32min\u001b[0m \u001b[0mftylist\u001b[0m\u001b[0;34m:\u001b[0m\u001b[0;34m\u001b[0m\u001b[0m\n\u001b[1;32m    165\u001b[0m             \u001b[0mguvec\u001b[0m\u001b[0;34m.\u001b[0m\u001b[0madd\u001b[0m\u001b[0;34m(\u001b[0m\u001b[0mfty\u001b[0m\u001b[0;34m)\u001b[0m\u001b[0;34m\u001b[0m\u001b[0m\n\u001b[0;32m--> 166\u001b[0;31m         \u001b[0;32mreturn\u001b[0m \u001b[0mguvec\u001b[0m\u001b[0;34m.\u001b[0m\u001b[0mbuild_ufunc\u001b[0m\u001b[0;34m(\u001b[0m\u001b[0;34m)\u001b[0m\u001b[0;34m\u001b[0m\u001b[0m\n\u001b[0m\u001b[1;32m    167\u001b[0m \u001b[0;34m\u001b[0m\u001b[0m\n\u001b[1;32m    168\u001b[0m     \u001b[0;32mreturn\u001b[0m \u001b[0mwrap\u001b[0m\u001b[0;34m\u001b[0m\u001b[0m\n",
      "\u001b[0;32m/home/yunfanz/anaconda3/envs/envPAPER/lib/python2.7/site-packages/numba/npyufunc/ufuncbuilder.pyc\u001b[0m in \u001b[0;36mbuild_ufunc\u001b[0;34m(self)\u001b[0m\n\u001b[1;32m    270\u001b[0m         \u001b[0;32mfor\u001b[0m \u001b[0msig\u001b[0m \u001b[0;32min\u001b[0m \u001b[0mself\u001b[0m\u001b[0;34m.\u001b[0m\u001b[0m_sigs\u001b[0m\u001b[0;34m:\u001b[0m\u001b[0;34m\u001b[0m\u001b[0m\n\u001b[1;32m    271\u001b[0m             \u001b[0mcres\u001b[0m \u001b[0;34m=\u001b[0m \u001b[0mself\u001b[0m\u001b[0;34m.\u001b[0m\u001b[0m_cres\u001b[0m\u001b[0;34m[\u001b[0m\u001b[0msig\u001b[0m\u001b[0;34m]\u001b[0m\u001b[0;34m\u001b[0m\u001b[0m\n\u001b[0;32m--> 272\u001b[0;31m             \u001b[0mdtypenums\u001b[0m\u001b[0;34m,\u001b[0m \u001b[0mptr\u001b[0m\u001b[0;34m,\u001b[0m \u001b[0menv\u001b[0m \u001b[0;34m=\u001b[0m \u001b[0mself\u001b[0m\u001b[0;34m.\u001b[0m\u001b[0mbuild\u001b[0m\u001b[0;34m(\u001b[0m\u001b[0mcres\u001b[0m\u001b[0;34m)\u001b[0m\u001b[0;34m\u001b[0m\u001b[0m\n\u001b[0m\u001b[1;32m    273\u001b[0m             \u001b[0mdtypelist\u001b[0m\u001b[0;34m.\u001b[0m\u001b[0mappend\u001b[0m\u001b[0;34m(\u001b[0m\u001b[0mdtypenums\u001b[0m\u001b[0;34m)\u001b[0m\u001b[0;34m\u001b[0m\u001b[0m\n\u001b[1;32m    274\u001b[0m             \u001b[0mptrlist\u001b[0m\u001b[0;34m.\u001b[0m\u001b[0mappend\u001b[0m\u001b[0;34m(\u001b[0m\u001b[0mutils\u001b[0m\u001b[0;34m.\u001b[0m\u001b[0mlongint\u001b[0m\u001b[0;34m(\u001b[0m\u001b[0mptr\u001b[0m\u001b[0;34m)\u001b[0m\u001b[0;34m)\u001b[0m\u001b[0;34m\u001b[0m\u001b[0m\n",
      "\u001b[0;32m/home/yunfanz/anaconda3/envs/envPAPER/lib/python2.7/site-packages/numba/npyufunc/ufuncbuilder.pyc\u001b[0m in \u001b[0;36mbuild\u001b[0;34m(self, cres)\u001b[0m\n\u001b[1;32m    298\u001b[0m                                             \u001b[0msignature\u001b[0m\u001b[0;34m,\u001b[0m \u001b[0mself\u001b[0m\u001b[0;34m.\u001b[0m\u001b[0msin\u001b[0m\u001b[0;34m,\u001b[0m \u001b[0mself\u001b[0m\u001b[0;34m.\u001b[0m\u001b[0msout\u001b[0m\u001b[0;34m,\u001b[0m\u001b[0;34m\u001b[0m\u001b[0m\n\u001b[1;32m    299\u001b[0m                                             \u001b[0mfndesc\u001b[0m\u001b[0;34m=\u001b[0m\u001b[0mcres\u001b[0m\u001b[0;34m.\u001b[0m\u001b[0mfndesc\u001b[0m\u001b[0;34m,\u001b[0m\u001b[0;34m\u001b[0m\u001b[0m\n\u001b[0;32m--> 300\u001b[0;31m                                             env=cres.environment)\n\u001b[0m\u001b[1;32m    301\u001b[0m \u001b[0;34m\u001b[0m\u001b[0m\n\u001b[1;32m    302\u001b[0m         \u001b[0mptr\u001b[0m \u001b[0;34m=\u001b[0m \u001b[0mlibrary\u001b[0m\u001b[0;34m.\u001b[0m\u001b[0mget_pointer_to_function\u001b[0m\u001b[0;34m(\u001b[0m\u001b[0mwrapper\u001b[0m\u001b[0;34m.\u001b[0m\u001b[0mname\u001b[0m\u001b[0;34m)\u001b[0m\u001b[0;34m\u001b[0m\u001b[0m\n",
      "\u001b[0;32m/home/yunfanz/anaconda3/envs/envPAPER/lib/python2.7/site-packages/numba/npyufunc/wrappers.pyc\u001b[0m in \u001b[0;36mbuild_gufunc_wrapper\u001b[0;34m(library, context, func, signature, sin, sout, fndesc, env)\u001b[0m\n\u001b[1;32m    411\u001b[0m                else _GufuncWrapper)\n\u001b[1;32m    412\u001b[0m     return wrapcls(library, context, func, signature, sin, sout, fndesc,\n\u001b[0;32m--> 413\u001b[0;31m                    env).build()\n\u001b[0m\u001b[1;32m    414\u001b[0m \u001b[0;34m\u001b[0m\u001b[0m\n\u001b[1;32m    415\u001b[0m \u001b[0;34m\u001b[0m\u001b[0m\n",
      "\u001b[0;32m/home/yunfanz/anaconda3/envs/envPAPER/lib/python2.7/site-packages/numba/npyufunc/wrappers.pyc\u001b[0m in \u001b[0;36mbuild\u001b[0;34m(self)\u001b[0m\n\u001b[1;32m    332\u001b[0m                                            self.sin + self.sout)):\n\u001b[1;32m    333\u001b[0m             ary = GUArrayArg(self.context, builder, arg_args,\n\u001b[0;32m--> 334\u001b[0;31m                              arg_steps, i, step_offset, typ, sym, sym_dim)\n\u001b[0m\u001b[1;32m    335\u001b[0m             \u001b[0mstep_offset\u001b[0m \u001b[0;34m+=\u001b[0m \u001b[0mlen\u001b[0m\u001b[0;34m(\u001b[0m\u001b[0msym\u001b[0m\u001b[0;34m)\u001b[0m\u001b[0;34m\u001b[0m\u001b[0m\n\u001b[1;32m    336\u001b[0m             \u001b[0marrays\u001b[0m\u001b[0;34m.\u001b[0m\u001b[0mappend\u001b[0m\u001b[0;34m(\u001b[0m\u001b[0mary\u001b[0m\u001b[0;34m)\u001b[0m\u001b[0;34m\u001b[0m\u001b[0m\n",
      "\u001b[0;32m/home/yunfanz/anaconda3/envs/envPAPER/lib/python2.7/site-packages/numba/npyufunc/wrappers.pyc\u001b[0m in \u001b[0;36m__init__\u001b[0;34m(self, context, builder, args, steps, i, step_offset, typ, syms, sym_dim)\u001b[0m\n\u001b[1;32m    565\u001b[0m             \u001b[0;32mif\u001b[0m \u001b[0msyms\u001b[0m\u001b[0;34m:\u001b[0m\u001b[0;34m\u001b[0m\u001b[0m\n\u001b[1;32m    566\u001b[0m                 raise TypeError(\"scalar type {0} given for non scalar \"\n\u001b[0;32m--> 567\u001b[0;31m                                 \"argument #{1}\".format(typ, i + 1))\n\u001b[0m\u001b[1;32m    568\u001b[0m             \u001b[0mself\u001b[0m\u001b[0;34m.\u001b[0m\u001b[0m_loader\u001b[0m \u001b[0;34m=\u001b[0m \u001b[0m_ScalarArgLoader\u001b[0m\u001b[0;34m(\u001b[0m\u001b[0mdtype\u001b[0m\u001b[0;34m=\u001b[0m\u001b[0mtyp\u001b[0m\u001b[0;34m,\u001b[0m \u001b[0mstride\u001b[0m\u001b[0;34m=\u001b[0m\u001b[0mcore_step\u001b[0m\u001b[0;34m)\u001b[0m\u001b[0;34m\u001b[0m\u001b[0m\n\u001b[1;32m    569\u001b[0m \u001b[0;34m\u001b[0m\u001b[0m\n",
      "\u001b[0;31mTypeError\u001b[0m: scalar type float32 given for non scalar argument #1"
     ]
    }
   ],
   "source": [
    "from numba import float32, jit, vectorize, guvectorize\n",
    "wgtfunc=lambda dt,res: np.exp(-dt**2/(2*res**2))\n",
    "@jit('void(float32[:,:], float32)')\n",
    "def jit_wgtfunc(dt, res):\n",
    "    for ddt in dt:\n",
    "        temp= np.exp(-ddt**2/(2*res**2))\n",
    "@guvectorize([(float32, float32)], '(n,m), (p)')\n",
    "def vec_wgtfunc(dt, res):\n",
    "    for ddt in dt:\n",
    "        temp= np.exp(-ddt**2/(2*res**2))\n",
    "lsts = np.linspace(0,6.28,1000000).reshape((1000, 1000)).astype(np.float32)\n",
    "dlst = np.float32(0.001)\n",
    "%timeit jit_wgtfunc(lsts, dlst)\n",
    "%timeit vec_wgtfunc(lsts, np.array([dlst]))"
   ]
  },
  {
   "cell_type": "code",
   "execution_count": 12,
   "metadata": {
    "collapsed": false
   },
   "outputs": [
    {
     "data": {
      "text/plain": [
       "0.001"
      ]
     },
     "execution_count": 12,
     "metadata": {},
     "output_type": "execute_result"
    }
   ],
   "source": []
  },
  {
   "cell_type": "code",
   "execution_count": null,
   "metadata": {
    "collapsed": true
   },
   "outputs": [],
   "source": []
  }
 ],
 "metadata": {
  "anaconda-cloud": {},
  "kernelspec": {
   "display_name": "Python [conda env:envPAPER]",
   "language": "python",
   "name": "conda-env-envPAPER-py"
  },
  "language_info": {
   "codemirror_mode": {
    "name": "ipython",
    "version": 2
   },
   "file_extension": ".py",
   "mimetype": "text/x-python",
   "name": "python",
   "nbconvert_exporter": "python",
   "pygments_lexer": "ipython2",
   "version": "2.7.12"
  }
 },
 "nbformat": 4,
 "nbformat_minor": 1
}
