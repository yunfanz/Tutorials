{
 "cells": [
  {
   "cell_type": "code",
   "execution_count": 1,
   "metadata": {
    "collapsed": false
   },
   "outputs": [],
   "source": [
    "from numba import float32, complex64, guvectorize, jit, autojit, cuda\n",
    "import numpy as np\n",
    "%load_ext line_profiler\n",
    "%load_ext autoreload\n",
    "%autoreload 2"
   ]
  },
  {
   "cell_type": "code",
   "execution_count": null,
   "metadata": {
    "collapsed": false
   },
   "outputs": [],
   "source": [
    "#@autojit\n",
    "def lst_grid(lsts, data, wgts=None, lstbins=6300, wgtfunc=lambda dt,res: np.exp(-dt**2/(2*res**2))):\n",
    "    lstgrid = np.linspace(0, 2*np.pi, lstbins)\n",
    "    lstres = lstgrid[1]-lstgrid[0]\n",
    "    if wgts is None: wgts = np.where(np.abs(data) == 0, 0, 1.)\n",
    "    sumgrid,wgtgrid = 0, 0\n",
    "    for lst,d,w in zip(lsts,data,wgts):\n",
    "        dt = lstgrid - lst\n",
    "        wf = wgtfunc(dt,lstres); wf.shape = (-1,) + (1,)*(data.ndim-1)\n",
    "        d.shape, w.shape = (1,-1), (1,-1)\n",
    "        #print lst, dt\n",
    "        wgtgrid += w * wf\n",
    "        sumgrid += d * w * wf \n",
    "    datgrid = np.where(wgtgrid > 1e-10, sumgrid/wgtgrid, 0)\n",
    "    #print('real', datgrid)\n",
    "    return lstgrid, datgrid, wgtgrid\n",
    "@guvectorize([(float32[:], float32[:,:],float32[:,:], float32[:,:])], '(n),(n,m)->(n,m),(n,m)')\n",
    "def g_cpu(lsts, data, lstsg, datag):\n",
    "    lstsg, datag, _ = lst_grid(lsts, data)\n",
    "    #lstsg, datag = lsts, data"
   ]
  },
  {
   "cell_type": "code",
   "execution_count": null,
   "metadata": {
    "collapsed": false
   },
   "outputs": [],
   "source": [
    "def glst_grid(lsts, data, wgts=None, lstbins=100, wgtfunc=lambda dt,res: np.exp(-dt**2/(2*res**2))):\n",
    "    lstgrid = np.linspace(0, 2*np.pi, lstbins).astype(np.float32)\n",
    "    if wgts is None: wgts = np.where(np.abs(data) == 0, 0, 1.).astype(np.float32)\n",
    "    datwgt = g(lsts, lstgrid, np.vstack([data, wgts]))\n",
    "    datgrid = datwgt[:lstbins]\n",
    "    wgtgrid = datwgt[lstbins:]\n",
    "    \n",
    "    print('f', datwgt)\n",
    "    lstgrid = np.linspace(0, 2*np.pi, lstbins).astype(np.float32)\n",
    "    return lstgrid, datgrid, wgtgrid\n",
    "\n",
    "@guvectorize([(float32[:], float32[:],float32[:,:], float32[:,:])], '(n),(n),(p,m)->(p,m)', target='cuda')\n",
    "def g(lsts, lstgrid, datwgts, out):\n",
    "    lstbins=100\n",
    "    lstres = lstgrid[1]-lstgrid[0]\n",
    "    data = datwgts[:lstbins]\n",
    "    wgts = datwgts[lstbins:]\n",
    "    sumgrid,wgtgrid = 0, 0\n",
    "    #wgtfunc=lambda dt,res: np.exp(-dt**2/(2*res**2))\n",
    "    for lst,d,w in zip(lsts,data,wgts):\n",
    "        dt = lstgrid - lst\n",
    "        #wf = wgtfunc(dt,lstres); wf.shape = (-1,) + (1,)*(data.ndim-1)\n",
    "        wf = np.exp(-dt**2/(2*lstres**2)); wf.shape = (-1,) + (1,)*(data.ndim-1)\n",
    "        d.shape, w.shape = (1,-1), (1,-1)\n",
    "        #print lst, dt\n",
    "        wgtgrid += w * wf\n",
    "        sumgrid += d * w * wf \n",
    "    datgrid = np.where(wgtgrid > 1e-10, sumgrid/wgtgrid, 0)\n",
    "    out = np.vstack([datgrid, wgtgrid])\n",
    "    print('?',out[:lstbins])\n",
    "    print(lsts.shape, datwgts.shape, out.shape)\n",
    "    #lstsg, datag = lsts, data"
   ]
  },
  {
   "cell_type": "code",
   "execution_count": null,
   "metadata": {
    "collapsed": false
   },
   "outputs": [],
   "source": [
    "lsts = np.linspace(0, 6.28, 100, dtype=np.float32)\n",
    "data = np.random.rand(100, 51).astype(np.float32)"
   ]
  },
  {
   "cell_type": "code",
   "execution_count": null,
   "metadata": {
    "collapsed": false
   },
   "outputs": [],
   "source": [
    "out = np.zeros_like(data)\n",
    "#a,b,c = glst_grid(lsts, data,lstbins=100)\n",
    "%timeit aa,bb,cc = lst_grid(lsts, data,lstbins=100)"
   ]
  },
  {
   "cell_type": "code",
   "execution_count": null,
   "metadata": {
    "collapsed": false
   },
   "outputs": [],
   "source": [
    "%%file basic.py\n",
    "import numpy as np\n",
    "def lst_grid(lsts, data, wgts=None, lstbins=6300, wgtfunc=lambda dt,res: np.exp(-dt**2/(2*res**2))):\n",
    "    lstgrid = np.linspace(0, 2*np.pi, lstbins)\n",
    "    lstres = lstgrid[1]-lstgrid[0]\n",
    "    if wgts is None: wgts = np.where(np.abs(data) == 0, 0, 1.)\n",
    "    sumgrid,wgtgrid = 0, 0\n",
    "    for lst,d,w in zip(lsts,data,wgts):\n",
    "        dt = lstgrid - lst\n",
    "        wf = wgtfunc(dt,lstres); wf.shape = (-1,) + (1,)*(data.ndim-1)\n",
    "        d.shape, w.shape = (1,-1), (1,-1)\n",
    "        #print lst, dt\n",
    "        wgtgrid += w * wf\n",
    "        sumgrid += d * w * wf \n",
    "    datgrid = np.where(wgtgrid > 1e-10, sumgrid/wgtgrid, 0)\n",
    "    #print('real', datgrid)\n",
    "    return lstgrid, datgrid, wgtgrid\n",
    "lsts = np.linspace(0, 6.28, 100, dtype=np.float32)\n",
    "data = np.random.rand(100, 51).astype(np.float32)\n",
    "def execute():\n",
    "    aa,bb,cc = lst_grid(lsts, data,lstbins=100)"
   ]
  },
  {
   "cell_type": "code",
   "execution_count": null,
   "metadata": {
    "collapsed": false
   },
   "outputs": [],
   "source": [
    "import basic\n",
    "%lprun -f basic.lst_grid basic.execute()"
   ]
  },
  {
   "cell_type": "code",
   "execution_count": null,
   "metadata": {
    "collapsed": false
   },
   "outputs": [],
   "source": []
  },
  {
   "cell_type": "code",
   "execution_count": 7,
   "metadata": {
    "collapsed": false
   },
   "outputs": [
    {
     "name": "stderr",
     "output_type": "stream",
     "text": [
      "/home/yunfanz/anaconda3/envs/envPAPER/lib/python2.7/site-packages/numba/cuda/compiler.py:233: UserWarning: Could not autotune, using default tpb of 128\n",
      "  warnings.warn('Could not autotune, using default tpb of 128')\n"
     ]
    },
    {
     "name": "stdout",
     "output_type": "stream",
     "text": [
      "1000 loops, best of 3: 1.4 ms per loop\n"
     ]
    }
   ],
   "source": [
    "import numpy as np\n",
    "from numba import guvectorize, cuda\n",
    "\n",
    "@guvectorize(['void(float64[:], intp[:], float64[:])'], '(n),(m)->(n)', target='cuda')\n",
    "def move_mean(a, window_arr, out):\n",
    "    window_width = window_arr[0]\n",
    "    asum = 0.0\n",
    "    count = 0\n",
    "    for i in range(window_width):\n",
    "        asum += a[i]\n",
    "        count += 1\n",
    "        out[i] = asum / count\n",
    "    for i in range(window_width, len(a)):\n",
    "        asum += a[i] - a[i - window_width]\n",
    "        out[i] = asum / count\n",
    "\n",
    "arr = np.arange(2000, dtype=np.float64).reshape(200, 10)\n",
    "#print arr \n",
    "%timeit move_mean(arr,np.array([10]))"
   ]
  },
  {
   "cell_type": "code",
   "execution_count": null,
   "metadata": {
    "collapsed": false
   },
   "outputs": [],
   "source": [
    "from __future__ import print_function\n",
    "\n",
    "import sys\n",
    "\n",
    "import numpy as np\n",
    "\n",
    "from numba import guvectorize, cuda\n",
    "\n",
    "if sys.version_info[0] == 2:\n",
    "    range = xrange\n",
    "\n",
    "# Controls whether to manually handle CUDA memory allocation or not.\n",
    "MANAGE_CUDA_MEMORY = True\n",
    "\n",
    "#    function type:\n",
    "#        - has no void return type\n",
    "#        - array argument is one dimenion fewer than the source array\n",
    "#        - scalar output is passed as a 1-element array.\n",
    "#\n",
    "#    signature: (n)->()\n",
    "#        - the function takes an array of n-element and output a scalar.\n",
    "\n",
    "@guvectorize(['void(int32[:], int32[:])'], '(n)->()', target='cuda')\n",
    "def sum_row(inp, out):\n",
    "    tmp = 0.\n",
    "    for i in range(inp.shape[0]):\n",
    "        tmp += inp[i]\n",
    "    out[0] = tmp\n",
    "\n",
    "# inp is (10000, 3)\n",
    "# out is (10000)\n",
    "# The outter (leftmost) dimension must match or numpy broadcasting is performed.\n",
    "# But, broadcasting on CUDA arrays is not supported.\n",
    "\n",
    "inp = np.arange(30000, dtype=np.int32).reshape(10000, 3)\n",
    "\n",
    "\n",
    "if MANAGE_CUDA_MEMORY:\n",
    "    # invoke on CUDA with manually managed memory\n",
    "    out = np.empty(10000, dtype=inp.dtype)\n",
    "\n",
    "    dev_inp = cuda.to_device(inp)             # alloc and copy input data\n",
    "    dev_out = cuda.to_device(out, copy=False) # alloc only\n",
    "\n",
    "    sum_row(dev_inp, out=dev_out)             # invoke the gufunc\n",
    "\n",
    "    dev_out.copy_to_host(out)                 # retrieve the result\n",
    "else:\n",
    "    # Manually managing the CUDA allocation is optional, but recommended\n",
    "    # for maximum performance.\n",
    "    out = sum_row(inp)\n",
    "\n",
    "# verify result\n",
    "goal = np.empty_like(out)\n",
    "for i in range(inp.shape[0]):\n",
    "    assert out[i] == inp[i].sum()\n",
    "\n",
    "# print out\n",
    "print('input'.center(80, '-'))\n",
    "print(inp)\n",
    "print('output'.center(80, '-'))\n",
    "print(out)"
   ]
  },
  {
   "cell_type": "code",
   "execution_count": 23,
   "metadata": {
    "collapsed": false
   },
   "outputs": [
    {
     "name": "stdout",
     "output_type": "stream",
     "text": [
      "1 loop, best of 3: 12.6 s per loop\n",
      "10 loops, best of 3: 40.7 ms per loop\n"
     ]
    }
   ],
   "source": [
    "from numba import guvectorize\n",
    "from numpy import arange\n",
    "\n",
    "@guvectorize(['void(float32[:,:], float32[:,:], float32[:,:])'],\n",
    "             '(m,n),(n,p)->(m,p)', target='parallel')\n",
    "def matmul(A, B, C):\n",
    "    m, n = A.shape\n",
    "    n, p = B.shape\n",
    "    for i in range(m):\n",
    "        for j in range(p):\n",
    "            C[i, j] = 0\n",
    "            for k in range(n):\n",
    "                C[i, j] += A[i, k] * B[k, j]\n",
    "\n",
    "w = 2000\n",
    "A = arange(w**2).reshape(w, w).astype(np.float32)\n",
    "B = arange(w**2).reshape(w, w).astype(np.float32)\n",
    "%timeit C = matmul(A, B)\n",
    "%timeit C = np.dot(A,B)"
   ]
  },
  {
   "cell_type": "code",
   "execution_count": 22,
   "metadata": {
    "collapsed": false
   },
   "outputs": [
    {
     "name": "stdout",
     "output_type": "stream",
     "text": [
      "1 loop, best of 3: 278 ms per loop\n"
     ]
    }
   ],
   "source": [
    "from numba import jit, vectorize, guvectorize, float64, complex64, int32, float32\n",
    "\n",
    "@jit(int32(complex64, int32))\n",
    "def mandelbrot(c,maxiter):\n",
    "    nreal = 0\n",
    "    real = 0\n",
    "    imag = 0\n",
    "    for n in range(maxiter):\n",
    "        nreal = real*real - imag*imag + c.real\n",
    "        imag = 2* real*imag + c.imag\n",
    "        real = nreal;\n",
    "        if real * real + imag * imag > 4.0:\n",
    "            return n\n",
    "    return 0\n",
    "\n",
    "@guvectorize([(complex64[:], int32[:], int32[:])], '(n),()->(n)',target='parallel')\n",
    "def mandelbrot_numpy(c, maxit, output):\n",
    "    maxiter = maxit[0]\n",
    "    for i in range(c.shape[0]):\n",
    "        output[i] = mandelbrot(c[i],maxiter)\n",
    "        \n",
    "def mandelbrot_set(xmin,xmax,ymin,ymax,width,height,maxiter):\n",
    "    r1 = np.linspace(xmin, xmax, width, dtype=np.float32)\n",
    "    r2 = np.linspace(ymin, ymax, height, dtype=np.float32)\n",
    "    c = r1 + r2[:,None]*1j\n",
    "    n3 = mandelbrot_numpy(c,maxiter)\n",
    "    return (r1,r2,n3.T) \n",
    "%timeit mandelbrot_set(-0.74877,-0.74872,0.06505,0.06510,1000,1000,2048)"
   ]
  },
  {
   "cell_type": "code",
   "execution_count": 24,
   "metadata": {
    "collapsed": false
   },
   "outputs": [
    {
     "name": "stdout",
     "output_type": "stream",
     "text": [
      "1 loop, best of 3: 273 ms per loop\n"
     ]
    }
   ],
   "source": [
    "@guvectorize([(complex64[:], int32[:], int32[:])], '(n),(n)->(n)', target='cuda')\n",
    "def mandelbrot_numpy(c, maxit, output):\n",
    "    maxiter = maxit[0]\n",
    "    for i in range(c.shape[0]):\n",
    "        creal = c[i].real\n",
    "        cimag = c[i].imag\n",
    "        real = creal\n",
    "        imag = cimag\n",
    "        output[i] = 0\n",
    "        for n in range(maxiter):\n",
    "            real2 = real*real\n",
    "            imag2 = imag*imag\n",
    "            if real2 + imag2 > 4.0:\n",
    "                output[i] = n\n",
    "                break\n",
    "            imag = 2* real*imag + cimag\n",
    "            real = real2 - imag2 + creal\n",
    "            \n",
    "        \n",
    "def mandelbrot_set(xmin,xmax,ymin,ymax,width,height,maxiter):\n",
    "    r1 = np.linspace(xmin, xmax, width, dtype=np.float32)\n",
    "    r2 = np.linspace(ymin, ymax, height, dtype=np.float32)\n",
    "    c = r1 + r2[:,None]*1j\n",
    "    n3 = np.empty(c.shape, int)\n",
    "    maxit = np.ones(c.shape, int) * maxiter\n",
    "    n3 = mandelbrot_numpy(c,maxit)\n",
    "    return (r1,r2,n3.T) \n",
    "%timeit mandelbrot_set(-0.74877,-0.74872,0.06505,0.06510,1000,1000,2048)"
   ]
  },
  {
   "cell_type": "code",
   "execution_count": 4,
   "metadata": {
    "collapsed": false
   },
   "outputs": [
    {
     "ename": "CompileError",
     "evalue": "nvcc preprocessing of /tmp/tmp3XNiEe.cu failed\n[command: nvcc --preprocess -arch sm_61 -I/home/yunfanz/anaconda3/envs/envPAPER/lib/python2.7/site-packages/pycuda/cuda /tmp/tmp3XNiEe.cu --compiler-options -P]\n[stderr:\nnvcc fatal   : Value 'sm_61' is not defined for option 'gpu-architecture'\n]",
     "output_type": "error",
     "traceback": [
      "\u001b[0;31m---------------------------------------------------------------------------\u001b[0m",
      "\u001b[0;31mCompileError\u001b[0m                              Traceback (most recent call last)",
      "\u001b[0;32m<ipython-input-4-8a33a4162b20>\u001b[0m in \u001b[0;36m<module>\u001b[0;34m()\u001b[0m\n\u001b[1;32m     42\u001b[0m     \u001b[0mn3\u001b[0m \u001b[0;34m=\u001b[0m \u001b[0mmandelbrot_gpu\u001b[0m\u001b[0;34m(\u001b[0m\u001b[0mc\u001b[0m\u001b[0;34m,\u001b[0m\u001b[0mmaxiter\u001b[0m\u001b[0;34m)\u001b[0m\u001b[0;34m\u001b[0m\u001b[0m\n\u001b[1;32m     43\u001b[0m     \u001b[0;32mreturn\u001b[0m \u001b[0;34m(\u001b[0m\u001b[0mr1\u001b[0m\u001b[0;34m,\u001b[0m\u001b[0mr2\u001b[0m\u001b[0;34m,\u001b[0m\u001b[0mn3\u001b[0m\u001b[0;34m.\u001b[0m\u001b[0mT\u001b[0m\u001b[0;34m)\u001b[0m\u001b[0;34m\u001b[0m\u001b[0m\n\u001b[0;32m---> 44\u001b[0;31m \u001b[0mget_ipython\u001b[0m\u001b[0;34m(\u001b[0m\u001b[0;34m)\u001b[0m\u001b[0;34m.\u001b[0m\u001b[0mmagic\u001b[0m\u001b[0;34m(\u001b[0m\u001b[0;34mu'timeit mandelbrot_set(-0.74877,-0.74872,0.06505,0.06510,1000,1000,2048)'\u001b[0m\u001b[0;34m)\u001b[0m\u001b[0;34m\u001b[0m\u001b[0m\n\u001b[0m",
      "\u001b[0;32m/home/yunfanz/anaconda3/envs/envPAPER/lib/python2.7/site-packages/IPython/core/interactiveshell.pyc\u001b[0m in \u001b[0;36mmagic\u001b[0;34m(self, arg_s)\u001b[0m\n\u001b[1;32m   2156\u001b[0m         \u001b[0mmagic_name\u001b[0m\u001b[0;34m,\u001b[0m \u001b[0m_\u001b[0m\u001b[0;34m,\u001b[0m \u001b[0mmagic_arg_s\u001b[0m \u001b[0;34m=\u001b[0m \u001b[0marg_s\u001b[0m\u001b[0;34m.\u001b[0m\u001b[0mpartition\u001b[0m\u001b[0;34m(\u001b[0m\u001b[0;34m' '\u001b[0m\u001b[0;34m)\u001b[0m\u001b[0;34m\u001b[0m\u001b[0m\n\u001b[1;32m   2157\u001b[0m         \u001b[0mmagic_name\u001b[0m \u001b[0;34m=\u001b[0m \u001b[0mmagic_name\u001b[0m\u001b[0;34m.\u001b[0m\u001b[0mlstrip\u001b[0m\u001b[0;34m(\u001b[0m\u001b[0mprefilter\u001b[0m\u001b[0;34m.\u001b[0m\u001b[0mESC_MAGIC\u001b[0m\u001b[0;34m)\u001b[0m\u001b[0;34m\u001b[0m\u001b[0m\n\u001b[0;32m-> 2158\u001b[0;31m         \u001b[0;32mreturn\u001b[0m \u001b[0mself\u001b[0m\u001b[0;34m.\u001b[0m\u001b[0mrun_line_magic\u001b[0m\u001b[0;34m(\u001b[0m\u001b[0mmagic_name\u001b[0m\u001b[0;34m,\u001b[0m \u001b[0mmagic_arg_s\u001b[0m\u001b[0;34m)\u001b[0m\u001b[0;34m\u001b[0m\u001b[0m\n\u001b[0m\u001b[1;32m   2159\u001b[0m \u001b[0;34m\u001b[0m\u001b[0m\n\u001b[1;32m   2160\u001b[0m     \u001b[0;31m#-------------------------------------------------------------------------\u001b[0m\u001b[0;34m\u001b[0m\u001b[0;34m\u001b[0m\u001b[0m\n",
      "\u001b[0;32m/home/yunfanz/anaconda3/envs/envPAPER/lib/python2.7/site-packages/IPython/core/interactiveshell.pyc\u001b[0m in \u001b[0;36mrun_line_magic\u001b[0;34m(self, magic_name, line)\u001b[0m\n\u001b[1;32m   2077\u001b[0m                 \u001b[0mkwargs\u001b[0m\u001b[0;34m[\u001b[0m\u001b[0;34m'local_ns'\u001b[0m\u001b[0;34m]\u001b[0m \u001b[0;34m=\u001b[0m \u001b[0msys\u001b[0m\u001b[0;34m.\u001b[0m\u001b[0m_getframe\u001b[0m\u001b[0;34m(\u001b[0m\u001b[0mstack_depth\u001b[0m\u001b[0;34m)\u001b[0m\u001b[0;34m.\u001b[0m\u001b[0mf_locals\u001b[0m\u001b[0;34m\u001b[0m\u001b[0m\n\u001b[1;32m   2078\u001b[0m             \u001b[0;32mwith\u001b[0m \u001b[0mself\u001b[0m\u001b[0;34m.\u001b[0m\u001b[0mbuiltin_trap\u001b[0m\u001b[0;34m:\u001b[0m\u001b[0;34m\u001b[0m\u001b[0m\n\u001b[0;32m-> 2079\u001b[0;31m                 \u001b[0mresult\u001b[0m \u001b[0;34m=\u001b[0m \u001b[0mfn\u001b[0m\u001b[0;34m(\u001b[0m\u001b[0;34m*\u001b[0m\u001b[0margs\u001b[0m\u001b[0;34m,\u001b[0m\u001b[0;34m**\u001b[0m\u001b[0mkwargs\u001b[0m\u001b[0;34m)\u001b[0m\u001b[0;34m\u001b[0m\u001b[0m\n\u001b[0m\u001b[1;32m   2080\u001b[0m             \u001b[0;32mreturn\u001b[0m \u001b[0mresult\u001b[0m\u001b[0;34m\u001b[0m\u001b[0m\n\u001b[1;32m   2081\u001b[0m \u001b[0;34m\u001b[0m\u001b[0m\n",
      "\u001b[0;32m<decorator-gen-58>\u001b[0m in \u001b[0;36mtimeit\u001b[0;34m(self, line, cell)\u001b[0m\n",
      "\u001b[0;32m/home/yunfanz/anaconda3/envs/envPAPER/lib/python2.7/site-packages/IPython/core/magic.pyc\u001b[0m in \u001b[0;36m<lambda>\u001b[0;34m(f, *a, **k)\u001b[0m\n\u001b[1;32m    186\u001b[0m     \u001b[0;31m# but it's overkill for just that one bit of state.\u001b[0m\u001b[0;34m\u001b[0m\u001b[0;34m\u001b[0m\u001b[0m\n\u001b[1;32m    187\u001b[0m     \u001b[0;32mdef\u001b[0m \u001b[0mmagic_deco\u001b[0m\u001b[0;34m(\u001b[0m\u001b[0marg\u001b[0m\u001b[0;34m)\u001b[0m\u001b[0;34m:\u001b[0m\u001b[0;34m\u001b[0m\u001b[0m\n\u001b[0;32m--> 188\u001b[0;31m         \u001b[0mcall\u001b[0m \u001b[0;34m=\u001b[0m \u001b[0;32mlambda\u001b[0m \u001b[0mf\u001b[0m\u001b[0;34m,\u001b[0m \u001b[0;34m*\u001b[0m\u001b[0ma\u001b[0m\u001b[0;34m,\u001b[0m \u001b[0;34m**\u001b[0m\u001b[0mk\u001b[0m\u001b[0;34m:\u001b[0m \u001b[0mf\u001b[0m\u001b[0;34m(\u001b[0m\u001b[0;34m*\u001b[0m\u001b[0ma\u001b[0m\u001b[0;34m,\u001b[0m \u001b[0;34m**\u001b[0m\u001b[0mk\u001b[0m\u001b[0;34m)\u001b[0m\u001b[0;34m\u001b[0m\u001b[0m\n\u001b[0m\u001b[1;32m    189\u001b[0m \u001b[0;34m\u001b[0m\u001b[0m\n\u001b[1;32m    190\u001b[0m         \u001b[0;32mif\u001b[0m \u001b[0mcallable\u001b[0m\u001b[0;34m(\u001b[0m\u001b[0marg\u001b[0m\u001b[0;34m)\u001b[0m\u001b[0;34m:\u001b[0m\u001b[0;34m\u001b[0m\u001b[0m\n",
      "\u001b[0;32m/home/yunfanz/anaconda3/envs/envPAPER/lib/python2.7/site-packages/IPython/core/magics/execution.pyc\u001b[0m in \u001b[0;36mtimeit\u001b[0;34m(self, line, cell)\u001b[0m\n\u001b[1;32m   1042\u001b[0m             \u001b[0mnumber\u001b[0m \u001b[0;34m=\u001b[0m \u001b[0;36m1\u001b[0m\u001b[0;34m\u001b[0m\u001b[0m\n\u001b[1;32m   1043\u001b[0m             \u001b[0;32mfor\u001b[0m \u001b[0m_\u001b[0m \u001b[0;32min\u001b[0m \u001b[0mrange\u001b[0m\u001b[0;34m(\u001b[0m\u001b[0;36m1\u001b[0m\u001b[0;34m,\u001b[0m \u001b[0;36m10\u001b[0m\u001b[0;34m)\u001b[0m\u001b[0;34m:\u001b[0m\u001b[0;34m\u001b[0m\u001b[0m\n\u001b[0;32m-> 1044\u001b[0;31m                 \u001b[0mtime_number\u001b[0m \u001b[0;34m=\u001b[0m \u001b[0mtimer\u001b[0m\u001b[0;34m.\u001b[0m\u001b[0mtimeit\u001b[0m\u001b[0;34m(\u001b[0m\u001b[0mnumber\u001b[0m\u001b[0;34m)\u001b[0m\u001b[0;34m\u001b[0m\u001b[0m\n\u001b[0m\u001b[1;32m   1045\u001b[0m                 \u001b[0mworst_tuning\u001b[0m \u001b[0;34m=\u001b[0m \u001b[0mmax\u001b[0m\u001b[0;34m(\u001b[0m\u001b[0mworst_tuning\u001b[0m\u001b[0;34m,\u001b[0m \u001b[0mtime_number\u001b[0m \u001b[0;34m/\u001b[0m \u001b[0mnumber\u001b[0m\u001b[0;34m)\u001b[0m\u001b[0;34m\u001b[0m\u001b[0m\n\u001b[1;32m   1046\u001b[0m                 \u001b[0;32mif\u001b[0m \u001b[0mtime_number\u001b[0m \u001b[0;34m>=\u001b[0m \u001b[0;36m0.2\u001b[0m\u001b[0;34m:\u001b[0m\u001b[0;34m\u001b[0m\u001b[0m\n",
      "\u001b[0;32m/home/yunfanz/anaconda3/envs/envPAPER/lib/python2.7/site-packages/IPython/core/magics/execution.pyc\u001b[0m in \u001b[0;36mtimeit\u001b[0;34m(self, number)\u001b[0m\n\u001b[1;32m    137\u001b[0m         \u001b[0mgc\u001b[0m\u001b[0;34m.\u001b[0m\u001b[0mdisable\u001b[0m\u001b[0;34m(\u001b[0m\u001b[0;34m)\u001b[0m\u001b[0;34m\u001b[0m\u001b[0m\n\u001b[1;32m    138\u001b[0m         \u001b[0;32mtry\u001b[0m\u001b[0;34m:\u001b[0m\u001b[0;34m\u001b[0m\u001b[0m\n\u001b[0;32m--> 139\u001b[0;31m             \u001b[0mtiming\u001b[0m \u001b[0;34m=\u001b[0m \u001b[0mself\u001b[0m\u001b[0;34m.\u001b[0m\u001b[0minner\u001b[0m\u001b[0;34m(\u001b[0m\u001b[0mit\u001b[0m\u001b[0;34m,\u001b[0m \u001b[0mself\u001b[0m\u001b[0;34m.\u001b[0m\u001b[0mtimer\u001b[0m\u001b[0;34m)\u001b[0m\u001b[0;34m\u001b[0m\u001b[0m\n\u001b[0m\u001b[1;32m    140\u001b[0m         \u001b[0;32mfinally\u001b[0m\u001b[0;34m:\u001b[0m\u001b[0;34m\u001b[0m\u001b[0m\n\u001b[1;32m    141\u001b[0m             \u001b[0;32mif\u001b[0m \u001b[0mgcold\u001b[0m\u001b[0;34m:\u001b[0m\u001b[0;34m\u001b[0m\u001b[0m\n",
      "\u001b[0;32m<magic-timeit>\u001b[0m in \u001b[0;36minner\u001b[0;34m(_it, _timer)\u001b[0m\n",
      "\u001b[0;32m<ipython-input-4-8a33a4162b20>\u001b[0m in \u001b[0;36mmandelbrot_set\u001b[0;34m(xmin, xmax, ymin, ymax, width, height, maxiter)\u001b[0m\n\u001b[1;32m     40\u001b[0m \u001b[0;31m#     n3 = np.empty(c.shape, int)\u001b[0m\u001b[0;34m\u001b[0m\u001b[0;34m\u001b[0m\u001b[0m\n\u001b[1;32m     41\u001b[0m \u001b[0;31m#     maxit = np.ones(c.shape, int) * maxiter\u001b[0m\u001b[0;34m\u001b[0m\u001b[0;34m\u001b[0m\u001b[0m\n\u001b[0;32m---> 42\u001b[0;31m     \u001b[0mn3\u001b[0m \u001b[0;34m=\u001b[0m \u001b[0mmandelbrot_gpu\u001b[0m\u001b[0;34m(\u001b[0m\u001b[0mc\u001b[0m\u001b[0;34m,\u001b[0m\u001b[0mmaxiter\u001b[0m\u001b[0;34m)\u001b[0m\u001b[0;34m\u001b[0m\u001b[0m\n\u001b[0m\u001b[1;32m     43\u001b[0m     \u001b[0;32mreturn\u001b[0m \u001b[0;34m(\u001b[0m\u001b[0mr1\u001b[0m\u001b[0;34m,\u001b[0m\u001b[0mr2\u001b[0m\u001b[0;34m,\u001b[0m\u001b[0mn3\u001b[0m\u001b[0;34m.\u001b[0m\u001b[0mT\u001b[0m\u001b[0;34m)\u001b[0m\u001b[0;34m\u001b[0m\u001b[0m\n\u001b[1;32m     44\u001b[0m \u001b[0mget_ipython\u001b[0m\u001b[0;34m(\u001b[0m\u001b[0;34m)\u001b[0m\u001b[0;34m.\u001b[0m\u001b[0mmagic\u001b[0m\u001b[0;34m(\u001b[0m\u001b[0;34mu'timeit mandelbrot_set(-0.74877,-0.74872,0.06505,0.06510,1000,1000,2048)'\u001b[0m\u001b[0;34m)\u001b[0m\u001b[0;34m\u001b[0m\u001b[0m\n",
      "\u001b[0;32m<ipython-input-4-8a33a4162b20>\u001b[0m in \u001b[0;36mmandelbrot_gpu\u001b[0;34m(c, maxiter)\u001b[0m\n\u001b[1;32m     31\u001b[0m     \u001b[0mq_gpu\u001b[0m \u001b[0;34m=\u001b[0m \u001b[0mgpuarray\u001b[0m\u001b[0;34m.\u001b[0m\u001b[0mto_gpu\u001b[0m\u001b[0;34m(\u001b[0m\u001b[0mc\u001b[0m\u001b[0;34m.\u001b[0m\u001b[0mastype\u001b[0m\u001b[0;34m(\u001b[0m\u001b[0mnp\u001b[0m\u001b[0;34m.\u001b[0m\u001b[0mcomplex64\u001b[0m\u001b[0;34m)\u001b[0m\u001b[0;34m)\u001b[0m\u001b[0;34m\u001b[0m\u001b[0m\n\u001b[1;32m     32\u001b[0m     \u001b[0miterations_gpu\u001b[0m \u001b[0;34m=\u001b[0m \u001b[0mgpuarray\u001b[0m\u001b[0;34m.\u001b[0m\u001b[0mto_gpu\u001b[0m\u001b[0;34m(\u001b[0m\u001b[0mnp\u001b[0m\u001b[0;34m.\u001b[0m\u001b[0mempty\u001b[0m\u001b[0;34m(\u001b[0m\u001b[0mc\u001b[0m\u001b[0;34m.\u001b[0m\u001b[0mshape\u001b[0m\u001b[0;34m,\u001b[0m \u001b[0mdtype\u001b[0m\u001b[0;34m=\u001b[0m\u001b[0mnp\u001b[0m\u001b[0;34m.\u001b[0m\u001b[0mint\u001b[0m\u001b[0;34m)\u001b[0m\u001b[0;34m)\u001b[0m\u001b[0;34m\u001b[0m\u001b[0m\n\u001b[0;32m---> 33\u001b[0;31m     \u001b[0mcomplex_gpu\u001b[0m\u001b[0;34m(\u001b[0m\u001b[0mq_gpu\u001b[0m\u001b[0;34m,\u001b[0m \u001b[0miterations_gpu\u001b[0m\u001b[0;34m,\u001b[0m \u001b[0mmaxiter\u001b[0m\u001b[0;34m)\u001b[0m\u001b[0;34m\u001b[0m\u001b[0m\n\u001b[0m\u001b[1;32m     34\u001b[0m \u001b[0;34m\u001b[0m\u001b[0m\n\u001b[1;32m     35\u001b[0m     \u001b[0;32mreturn\u001b[0m \u001b[0miterations_gpu\u001b[0m\u001b[0;34m.\u001b[0m\u001b[0mget\u001b[0m\u001b[0;34m(\u001b[0m\u001b[0;34m)\u001b[0m\u001b[0;34m\u001b[0m\u001b[0m\n",
      "\u001b[0;32m/home/yunfanz/anaconda3/envs/envPAPER/lib/python2.7/site-packages/pycuda/elementwise.pyc\u001b[0m in \u001b[0;36m__call__\u001b[0;34m(self, *args, **kwargs)\u001b[0m\n\u001b[1;32m    197\u001b[0m         \u001b[0minvocation_args\u001b[0m \u001b[0;34m=\u001b[0m \u001b[0;34m[\u001b[0m\u001b[0;34m]\u001b[0m\u001b[0;34m\u001b[0m\u001b[0m\n\u001b[1;32m    198\u001b[0m         func, arguments = self.generate_stride_kernel_and_types(\n\u001b[0;32m--> 199\u001b[0;31m                 range_ is not None or slice_ is not None)\n\u001b[0m\u001b[1;32m    200\u001b[0m \u001b[0;34m\u001b[0m\u001b[0m\n\u001b[1;32m    201\u001b[0m         \u001b[0;32mfor\u001b[0m \u001b[0marg\u001b[0m\u001b[0;34m,\u001b[0m \u001b[0marg_descr\u001b[0m \u001b[0;32min\u001b[0m \u001b[0mzip\u001b[0m\u001b[0;34m(\u001b[0m\u001b[0margs\u001b[0m\u001b[0;34m,\u001b[0m \u001b[0marguments\u001b[0m\u001b[0;34m)\u001b[0m\u001b[0;34m:\u001b[0m\u001b[0;34m\u001b[0m\u001b[0m\n",
      "\u001b[0;32m/home/yunfanz/anaconda3/envs/envPAPER/lib/python2.7/site-packages/pytools/__init__.pyc\u001b[0m in \u001b[0;36mwrapper\u001b[0;34m(obj, *args, **kwargs)\u001b[0m\n\u001b[1;32m    486\u001b[0m             \u001b[0;32mreturn\u001b[0m \u001b[0mgetattr\u001b[0m\u001b[0;34m(\u001b[0m\u001b[0mobj\u001b[0m\u001b[0;34m,\u001b[0m \u001b[0mcache_dict_name\u001b[0m\u001b[0;34m)\u001b[0m\u001b[0;34m[\u001b[0m\u001b[0mkey\u001b[0m\u001b[0;34m]\u001b[0m\u001b[0;34m\u001b[0m\u001b[0m\n\u001b[1;32m    487\u001b[0m         \u001b[0;32mexcept\u001b[0m \u001b[0mAttributeError\u001b[0m\u001b[0;34m:\u001b[0m\u001b[0;34m\u001b[0m\u001b[0m\n\u001b[0;32m--> 488\u001b[0;31m             \u001b[0mresult\u001b[0m \u001b[0;34m=\u001b[0m \u001b[0mfunction\u001b[0m\u001b[0;34m(\u001b[0m\u001b[0mobj\u001b[0m\u001b[0;34m,\u001b[0m \u001b[0;34m*\u001b[0m\u001b[0margs\u001b[0m\u001b[0;34m,\u001b[0m \u001b[0;34m**\u001b[0m\u001b[0mkwargs\u001b[0m\u001b[0;34m)\u001b[0m\u001b[0;34m\u001b[0m\u001b[0m\n\u001b[0m\u001b[1;32m    489\u001b[0m             \u001b[0msetattr\u001b[0m\u001b[0;34m(\u001b[0m\u001b[0mobj\u001b[0m\u001b[0;34m,\u001b[0m \u001b[0mcache_dict_name\u001b[0m\u001b[0;34m,\u001b[0m \u001b[0;34m{\u001b[0m\u001b[0mkey\u001b[0m\u001b[0;34m:\u001b[0m \u001b[0mresult\u001b[0m\u001b[0;34m}\u001b[0m\u001b[0;34m)\u001b[0m\u001b[0;34m\u001b[0m\u001b[0m\n\u001b[1;32m    490\u001b[0m             \u001b[0;32mreturn\u001b[0m \u001b[0mresult\u001b[0m\u001b[0;34m\u001b[0m\u001b[0m\n",
      "\u001b[0;32m/home/yunfanz/anaconda3/envs/envPAPER/lib/python2.7/site-packages/pycuda/elementwise.pyc\u001b[0m in \u001b[0;36mgenerate_stride_kernel_and_types\u001b[0;34m(self, use_range)\u001b[0m\n\u001b[1;32m    175\u001b[0m     \u001b[0;32mdef\u001b[0m \u001b[0mgenerate_stride_kernel_and_types\u001b[0m\u001b[0;34m(\u001b[0m\u001b[0mself\u001b[0m\u001b[0;34m,\u001b[0m \u001b[0muse_range\u001b[0m\u001b[0;34m)\u001b[0m\u001b[0;34m:\u001b[0m\u001b[0;34m\u001b[0m\u001b[0m\n\u001b[1;32m    176\u001b[0m         knl, arguments = get_elwise_kernel_and_types(use_range=use_range,\n\u001b[0;32m--> 177\u001b[0;31m                 **self.gen_kwargs)\n\u001b[0m\u001b[1;32m    178\u001b[0m \u001b[0;34m\u001b[0m\u001b[0m\n\u001b[1;32m    179\u001b[0m         assert [i for i, arg in enumerate(arguments)\n",
      "\u001b[0;32m/home/yunfanz/anaconda3/envs/envPAPER/lib/python2.7/site-packages/pycuda/elementwise.pyc\u001b[0m in \u001b[0;36mget_elwise_kernel_and_types\u001b[0;34m(arguments, operation, name, keep, options, use_range, **kwargs)\u001b[0m\n\u001b[1;32m    145\u001b[0m \u001b[0;34m\u001b[0m\u001b[0m\n\u001b[1;32m    146\u001b[0m     mod = module_builder(arguments, operation, name,\n\u001b[0;32m--> 147\u001b[0;31m             keep, options, **kwargs)\n\u001b[0m\u001b[1;32m    148\u001b[0m \u001b[0;34m\u001b[0m\u001b[0m\n\u001b[1;32m    149\u001b[0m     \u001b[0mfunc\u001b[0m \u001b[0;34m=\u001b[0m \u001b[0mmod\u001b[0m\u001b[0;34m.\u001b[0m\u001b[0mget_function\u001b[0m\u001b[0;34m(\u001b[0m\u001b[0mname\u001b[0m\u001b[0;34m)\u001b[0m\u001b[0;34m\u001b[0m\u001b[0m\n",
      "\u001b[0;32m/home/yunfanz/anaconda3/envs/envPAPER/lib/python2.7/site-packages/pycuda/elementwise.pyc\u001b[0m in \u001b[0;36mget_elwise_module\u001b[0;34m(arguments, operation, name, keep, options, preamble, loop_prep, after_loop)\u001b[0m\n\u001b[1;32m     73\u001b[0m             \u001b[0;34m\"after_loop\"\u001b[0m\u001b[0;34m:\u001b[0m \u001b[0mafter_loop\u001b[0m\u001b[0;34m,\u001b[0m\u001b[0;34m\u001b[0m\u001b[0m\n\u001b[1;32m     74\u001b[0m             },\n\u001b[0;32m---> 75\u001b[0;31m         options=options, keep=keep)\n\u001b[0m\u001b[1;32m     76\u001b[0m \u001b[0;34m\u001b[0m\u001b[0m\n\u001b[1;32m     77\u001b[0m \u001b[0;34m\u001b[0m\u001b[0m\n",
      "\u001b[0;32m/home/yunfanz/anaconda3/envs/envPAPER/lib/python2.7/site-packages/pycuda/compiler.pyc\u001b[0m in \u001b[0;36m__init__\u001b[0;34m(self, source, nvcc, options, keep, no_extern_c, arch, code, cache_dir, include_dirs)\u001b[0m\n\u001b[1;32m    263\u001b[0m \u001b[0;34m\u001b[0m\u001b[0m\n\u001b[1;32m    264\u001b[0m         cubin = compile(source, nvcc, options, keep, no_extern_c,\n\u001b[0;32m--> 265\u001b[0;31m                 arch, code, cache_dir, include_dirs)\n\u001b[0m\u001b[1;32m    266\u001b[0m \u001b[0;34m\u001b[0m\u001b[0m\n\u001b[1;32m    267\u001b[0m         \u001b[0;32mfrom\u001b[0m \u001b[0mpycuda\u001b[0m\u001b[0;34m.\u001b[0m\u001b[0mdriver\u001b[0m \u001b[0;32mimport\u001b[0m \u001b[0mmodule_from_buffer\u001b[0m\u001b[0;34m\u001b[0m\u001b[0m\n",
      "\u001b[0;32m/home/yunfanz/anaconda3/envs/envPAPER/lib/python2.7/site-packages/pycuda/compiler.pyc\u001b[0m in \u001b[0;36mcompile\u001b[0;34m(source, nvcc, options, keep, no_extern_c, arch, code, cache_dir, include_dirs, target)\u001b[0m\n\u001b[1;32m    253\u001b[0m         \u001b[0moptions\u001b[0m\u001b[0;34m.\u001b[0m\u001b[0mappend\u001b[0m\u001b[0;34m(\u001b[0m\u001b[0;34m\"-I\"\u001b[0m\u001b[0;34m+\u001b[0m\u001b[0mi\u001b[0m\u001b[0;34m)\u001b[0m\u001b[0;34m\u001b[0m\u001b[0m\n\u001b[1;32m    254\u001b[0m \u001b[0;34m\u001b[0m\u001b[0m\n\u001b[0;32m--> 255\u001b[0;31m     \u001b[0;32mreturn\u001b[0m \u001b[0mcompile_plain\u001b[0m\u001b[0;34m(\u001b[0m\u001b[0msource\u001b[0m\u001b[0;34m,\u001b[0m \u001b[0moptions\u001b[0m\u001b[0;34m,\u001b[0m \u001b[0mkeep\u001b[0m\u001b[0;34m,\u001b[0m \u001b[0mnvcc\u001b[0m\u001b[0;34m,\u001b[0m \u001b[0mcache_dir\u001b[0m\u001b[0;34m,\u001b[0m \u001b[0mtarget\u001b[0m\u001b[0;34m)\u001b[0m\u001b[0;34m\u001b[0m\u001b[0m\n\u001b[0m\u001b[1;32m    256\u001b[0m \u001b[0;34m\u001b[0m\u001b[0m\n\u001b[1;32m    257\u001b[0m \u001b[0;34m\u001b[0m\u001b[0m\n",
      "\u001b[0;32m/home/yunfanz/anaconda3/envs/envPAPER/lib/python2.7/site-packages/pycuda/compiler.pyc\u001b[0m in \u001b[0;36mcompile_plain\u001b[0;34m(source, options, keep, nvcc, cache_dir, target)\u001b[0m\n\u001b[1;32m     76\u001b[0m \u001b[0;34m\u001b[0m\u001b[0m\n\u001b[1;32m     77\u001b[0m         \u001b[0;32mif\u001b[0m \u001b[0;34m'#include'\u001b[0m \u001b[0;32min\u001b[0m \u001b[0msource\u001b[0m\u001b[0;34m:\u001b[0m\u001b[0;34m\u001b[0m\u001b[0m\n\u001b[0;32m---> 78\u001b[0;31m             \u001b[0mchecksum\u001b[0m\u001b[0;34m.\u001b[0m\u001b[0mupdate\u001b[0m\u001b[0;34m(\u001b[0m\u001b[0mpreprocess_source\u001b[0m\u001b[0;34m(\u001b[0m\u001b[0msource\u001b[0m\u001b[0;34m,\u001b[0m \u001b[0moptions\u001b[0m\u001b[0;34m,\u001b[0m \u001b[0mnvcc\u001b[0m\u001b[0;34m)\u001b[0m\u001b[0;34m.\u001b[0m\u001b[0mencode\u001b[0m\u001b[0;34m(\u001b[0m\u001b[0;34m\"utf-8\"\u001b[0m\u001b[0;34m)\u001b[0m\u001b[0;34m)\u001b[0m\u001b[0;34m\u001b[0m\u001b[0m\n\u001b[0m\u001b[1;32m     79\u001b[0m         \u001b[0;32melse\u001b[0m\u001b[0;34m:\u001b[0m\u001b[0;34m\u001b[0m\u001b[0m\n\u001b[1;32m     80\u001b[0m             \u001b[0mchecksum\u001b[0m\u001b[0;34m.\u001b[0m\u001b[0mupdate\u001b[0m\u001b[0;34m(\u001b[0m\u001b[0msource\u001b[0m\u001b[0;34m.\u001b[0m\u001b[0mencode\u001b[0m\u001b[0;34m(\u001b[0m\u001b[0;34m\"utf-8\"\u001b[0m\u001b[0;34m)\u001b[0m\u001b[0;34m)\u001b[0m\u001b[0;34m\u001b[0m\u001b[0m\n",
      "\u001b[0;32m/home/yunfanz/anaconda3/envs/envPAPER/lib/python2.7/site-packages/pycuda/compiler.pyc\u001b[0m in \u001b[0;36mpreprocess_source\u001b[0;34m(source, options, nvcc)\u001b[0m\n\u001b[1;32m     53\u001b[0m         \u001b[0;32mfrom\u001b[0m \u001b[0mpycuda\u001b[0m\u001b[0;34m.\u001b[0m\u001b[0mdriver\u001b[0m \u001b[0;32mimport\u001b[0m \u001b[0mCompileError\u001b[0m\u001b[0;34m\u001b[0m\u001b[0m\n\u001b[1;32m     54\u001b[0m         raise CompileError(\"nvcc preprocessing of %s failed\" % source_path,\n\u001b[0;32m---> 55\u001b[0;31m                            cmdline, stderr=stderr)\n\u001b[0m\u001b[1;32m     56\u001b[0m \u001b[0;34m\u001b[0m\u001b[0m\n\u001b[1;32m     57\u001b[0m     \u001b[0;31m# sanity check\u001b[0m\u001b[0;34m\u001b[0m\u001b[0;34m\u001b[0m\u001b[0m\n",
      "\u001b[0;31mCompileError\u001b[0m: nvcc preprocessing of /tmp/tmp3XNiEe.cu failed\n[command: nvcc --preprocess -arch sm_61 -I/home/yunfanz/anaconda3/envs/envPAPER/lib/python2.7/site-packages/pycuda/cuda /tmp/tmp3XNiEe.cu --compiler-options -P]\n[stderr:\nnvcc fatal   : Value 'sm_61' is not defined for option 'gpu-architecture'\n]"
     ]
    }
   ],
   "source": [
    "import pycuda.driver as drv\n",
    "import pycuda.tools\n",
    "import pycuda.autoinit\n",
    "from pycuda.compiler import SourceModule\n",
    "import pycuda.gpuarray as gpuarray\n",
    "from pycuda.elementwise import ElementwiseKernel\n",
    "complex_gpu = ElementwiseKernel(\n",
    "    \"pycuda::complex<float> *q, int *output, int maxiter\",\n",
    "    \"\"\"\n",
    "    {\n",
    "        float nreal, real = 0;\n",
    "        float imag = 0;\n",
    "        output[i] = 0;\n",
    "        for(int curiter = 0; curiter < maxiter; curiter++) {\n",
    "            float real2 = real*real;\n",
    "            float imag2 = imag*imag;\n",
    "            nreal = real2 - imag2 + q[i].real();\n",
    "            imag = 2* real*imag + q[i].imag();\n",
    "            real = nreal;\n",
    "            if (real2 + imag2 > 4.0f){\n",
    "                output[i] = curiter;\n",
    "                break;\n",
    "                };\n",
    "        };\n",
    "    }\n",
    "    \"\"\",\n",
    "    \"complex5\",\n",
    "    preamble=\"#include <pycuda-complex.hpp>\",)\n",
    "\n",
    "def mandelbrot_gpu(c, maxiter):\n",
    "    q_gpu = gpuarray.to_gpu(c.astype(np.complex64))\n",
    "    iterations_gpu = gpuarray.to_gpu(np.empty(c.shape, dtype=np.int))\n",
    "    complex_gpu(q_gpu, iterations_gpu, maxiter)\n",
    "\n",
    "    return iterations_gpu.get()\n",
    "def mandelbrot_set(xmin,xmax,ymin,ymax,width,height,maxiter):\n",
    "    r1 = np.linspace(xmin, xmax, width, dtype=np.float32)\n",
    "    r2 = np.linspace(ymin, ymax, height, dtype=np.float32)\n",
    "    c = r1 + r2[:,None]*1j\n",
    "#     n3 = np.empty(c.shape, int)\n",
    "#     maxit = np.ones(c.shape, int) * maxiter\n",
    "    n3 = mandelbrot_gpu(c,maxiter)\n",
    "    return (r1,r2,n3.T) \n",
    "%timeit mandelbrot_set(-0.74877,-0.74872,0.06505,0.06510,1000,1000,2048)"
   ]
  },
  {
   "cell_type": "code",
   "execution_count": null,
   "metadata": {
    "collapsed": true
   },
   "outputs": [],
   "source": []
  }
 ],
 "metadata": {
  "anaconda-cloud": {},
  "kernelspec": {
   "display_name": "Python [conda env:envPAPER]",
   "language": "python",
   "name": "conda-env-envPAPER-py"
  },
  "language_info": {
   "codemirror_mode": {
    "name": "ipython",
    "version": 2
   },
   "file_extension": ".py",
   "mimetype": "text/x-python",
   "name": "python",
   "nbconvert_exporter": "python",
   "pygments_lexer": "ipython2",
   "version": "2.7.12"
  }
 },
 "nbformat": 4,
 "nbformat_minor": 1
}
