{
 "cells": [
  {
   "cell_type": "code",
   "execution_count": 10,
   "metadata": {
    "collapsed": false
   },
   "outputs": [
    {
     "name": "stdout",
     "output_type": "stream",
     "text": [
      "The line_profiler extension is already loaded. To reload it, use:\n",
      "  %reload_ext line_profiler\n",
      "The autoreload extension is already loaded. To reload it, use:\n",
      "  %reload_ext autoreload\n"
     ]
    }
   ],
   "source": [
    "import numpy as np\n",
    "%load_ext line_profiler\n",
    "%load_ext autoreload\n",
    "%autoreload 2\n",
    "from pycuda.tools import DeviceData as DD\n",
    "import matplotlib\n",
    "%matplotlib inline"
   ]
  },
  {
   "cell_type": "code",
   "execution_count": 14,
   "metadata": {
    "collapsed": false
   },
   "outputs": [
    {
     "data": {
      "text/plain": [
       "1024"
      ]
     },
     "execution_count": 14,
     "metadata": {},
     "output_type": "execute_result"
    }
   ],
   "source": [
    "dd = DD()\n",
    "dd.max_threads"
   ]
  },
  {
   "cell_type": "code",
   "execution_count": 3,
   "metadata": {
    "collapsed": false
   },
   "outputs": [
    {
     "name": "stdout",
     "output_type": "stream",
     "text": [
      "The slowest run took 5.06 times longer than the fastest. This could mean that an intermediate result is being cached.\n",
      "1 loop, best of 3: 47.2 ms per loop\n"
     ]
    }
   ],
   "source": [
    "import pycuda.driver as drv\n",
    "import pycuda.tools\n",
    "import pycuda.autoinit\n",
    "from pycuda.compiler import SourceModule\n",
    "import pycuda.gpuarray as gpuarray\n",
    "from pycuda.elementwise import ElementwiseKernel\n",
    "manual_gpu = ElementwiseKernel(\n",
    "    \"pycuda::complex<float> *q, int *output, int maxiter\",\n",
    "    \"\"\"\n",
    "    {\n",
    "        float nreal, real = 0;\n",
    "        float imag = 0;\n",
    "        output[i] = 0;\n",
    "        for(int curiter = 0; curiter < maxiter; curiter++) {\n",
    "            float real2 = real*real;\n",
    "            float imag2 = imag*imag;\n",
    "            nreal = real2 - imag2 + q[i].real();\n",
    "            imag = 2* real*imag + q[i].imag();\n",
    "            real = nreal;\n",
    "            if (real2 + imag2 > 4.0f){\n",
    "                output[i] = curiter;\n",
    "                break;\n",
    "                };\n",
    "        };\n",
    "    }\n",
    "    \"\"\",\n",
    "    \"complex5\",\n",
    "    preamble=\"#include <pycuda-complex.hpp>\",)\n",
    "complex_gpu = ElementwiseKernel(\n",
    "    \"pycuda::complex<float> *q, int *output, int maxiter\",\n",
    "    \"\"\"\n",
    "    {\n",
    "        pycuda::complex<float> z = q[i];\n",
    "        output[i] = 0;\n",
    "        for(int curiter = 0; curiter < maxiter; curiter++) {\n",
    "            pycuda::complex<float> z2 = z*z ;\n",
    "            z = z2+q[i];\n",
    "            if (z.real()*z.real()+z.imag()*z.imag() > 4.0f){\n",
    "                output[i] = curiter;\n",
    "                break;\n",
    "                };\n",
    "        };\n",
    "    }\n",
    "    \"\"\",\n",
    "    \"complex5\",\n",
    "    preamble=\"#include <pycuda-complex.hpp>\",)\n",
    "def mandelbrot_gpu(c, maxiter):\n",
    "    q_gpu = gpuarray.to_gpu(c.astype(np.complex64))\n",
    "    iterations_gpu = gpuarray.to_gpu(np.empty(c.shape, dtype=np.int))\n",
    "    manual_gpu(q_gpu, iterations_gpu, maxiter)\n",
    "\n",
    "    return iterations_gpu.get()\n",
    "def mandelbrot_set(xmin,xmax,ymin,ymax,width,height,maxiter):\n",
    "    r1 = np.linspace(xmin, xmax, width, dtype=np.float32)\n",
    "    r2 = np.linspace(ymin, ymax, height, dtype=np.float32)\n",
    "    c = r1 + r2[:,None]*1j\n",
    "#     n3 = np.empty(c.shape, int)\n",
    "#     maxit = np.ones(c.shape, int) * maxiter\n",
    "    n3 = mandelbrot_gpu(c,maxiter)\n",
    "    return (r1,r2,n3.T) \n",
    "%timeit mandelbrot_set(-0.74877,-0.74872,0.06505,0.06510,1000,1000,2048)"
   ]
  },
  {
   "cell_type": "code",
   "execution_count": 36,
   "metadata": {
    "collapsed": false
   },
   "outputs": [
    {
     "name": "stdout",
     "output_type": "stream",
     "text": [
      "--------------------------------------------------------------------------------\n",
      "Matrix C (GPU):\n",
      "[[ -1.74063993e+00  -4.83457774e-01   7.48204410e-01   4.91789818e-01\n",
      "    1.67654026e+00   4.63115215e-01]\n",
      " [  4.84271288e+00   1.87281930e+00  -1.28794456e+00  -1.13162361e-01\n",
      "   -2.34757137e+00   6.80427432e-01]\n",
      " [  1.39599895e+00   1.70880884e-01  -9.26170766e-01  -9.10108626e-01\n",
      "    6.37761176e-01  -5.33797264e-01]\n",
      " [ -8.80502701e-01  -4.10058141e-01   1.29596099e-01  -1.44799531e-01\n",
      "    2.27723206e-38   2.27723206e-38]]\n",
      "--------------------------------------------------------------------------------\n",
      "Matrix C (CPU):\n",
      "[[-1.74063993 -0.48345777  0.74820441  0.49178982 -2.95092463 -1.00793302]\n",
      " [ 4.84271288  1.8728193  -1.28794456 -0.11316236  2.25557208  1.5172292 ]\n",
      " [ 1.39599895  0.17088088 -0.92617077 -0.91010863  4.81320906  1.33717203]\n",
      " [-0.8805027  -0.41005814  0.1295961  -0.14479953  0.37446681 -0.10628237]]\n",
      "--------------------------------------------------------------------------------\n",
      "Matrix C (GPU-CPU):\n",
      "[[ 0.          0.          0.          0.          4.62746477  1.47104824]\n",
      " [ 0.          0.          0.          0.         -4.60314369 -0.83680177]\n",
      " [ 0.          0.          0.          0.         -4.17544794 -1.8709693 ]\n",
      " [ 0.          0.          0.          0.         -0.37446681  0.10628237]]\n",
      "--------------------------------------------------------------------------------\n",
      "CPU-GPU difference:\n",
      "[[ 0.          0.          0.          0.         -4.62746477 -1.47104824]\n",
      " [ 0.          0.          0.          0.          4.60314369  0.83680177]\n",
      " [ 0.          0.          0.          0.          4.17544794  1.8709693 ]\n",
      " [ 0.          0.          0.          0.          0.37446681 -0.10628237]]\n",
      "L2 norm: 8.158\n"
     ]
    },
    {
     "data": {
      "text/plain": [
       "False"
      ]
     },
     "execution_count": 36,
     "metadata": {},
     "output_type": "execute_result"
    }
   ],
   "source": [
    "# attempt to do matrix multiplication for real numbers\n",
    "import pycuda.autoinit\n",
    "from numpy import linalg as la\n",
    "from pycuda import driver, compiler, gpuarray, tools\n",
    "import numpy as np\n",
    "from time import *\n",
    "\n",
    "kernel_code_template = \"\"\"\n",
    "\n",
    "    __global__ void MatrixMulKernel(float *A, float *B, float *C)\n",
    "    {\n",
    "\n",
    "      const uint wA = %(MATRIX_dimt)s;\n",
    "      const uint wB = %(MATRIX_dimx)s;  \n",
    "\n",
    "      // Block index\n",
    "      const uint bx = blockIdx.x;\n",
    "      const uint by = blockIdx.y;\n",
    "      \n",
    "      // Thread index\n",
    "      const uint tx = threadIdx.x;\n",
    "      const uint ty = threadIdx.y;\n",
    "\n",
    "      // Index of the first sub-matrix of A processed by the block\n",
    "      const uint aBegin = wA * %(BLOCK_SIZE)s * by;\n",
    "      // Index of the last sub-matrix of A processed by the block\n",
    "      const uint aEnd = aBegin + wA - 1;\n",
    "      // Step size used to iterate through the sub-matrices of A\n",
    "      const uint aStep = %(BLOCK_SIZE)s;\n",
    "\n",
    "      // Index of the first sub-matrix of B processed by the block\n",
    "      const uint bBegin = %(BLOCK_SIZE)s * bx;\n",
    "      // Step size used to iterate through the sub-matrices of B\n",
    "      const uint bStep = %(BLOCK_SIZE)s * wB;\n",
    "\n",
    "      // The element of the block sub-matrix that is computed\n",
    "      // by the thread\n",
    "      float Csub = 0;\n",
    "      // Loop over all the sub-matrices of A and B required to\n",
    "      // compute the block sub-matrix\n",
    "      for (int a = aBegin, b = bBegin;\n",
    "           a <= aEnd;\n",
    "           a += aStep, b += bStep) \n",
    "        {\n",
    "          // Shared memory for the sub-matrix of A\n",
    "          __shared__ float As[%(BLOCK_SIZE)s][%(BLOCK_SIZE)s];\n",
    "          // Shared memory for the sub-matrix of B\n",
    "          __shared__ float Bs[%(BLOCK_SIZE)s][%(BLOCK_SIZE)s];\n",
    "\n",
    "          // Load the matrices from global memory to shared memory\n",
    "          // each thread loads one element of each matrix\n",
    "          As[ty][tx] = A[a + wA * ty + tx];\n",
    "          Bs[ty][tx] = B[b + wB * ty + tx];\n",
    "          // Synchronize to make sure the matrices are loaded\n",
    "          __syncthreads();\n",
    "\n",
    "          // Multiply the two matrices together;\n",
    "          // each thread computes one element\n",
    "          // of the block sub-matrix\n",
    "          for (int k = 0; k < %(BLOCK_SIZE)s; ++k)\n",
    "            Csub += As[ty][k] * Bs[k][tx];\n",
    "\n",
    "          // Synchronize to make sure that the preceding\n",
    "          // computation is done before loading two new\n",
    "          // sub-matrices of A and B in the next iteration\n",
    "          __syncthreads();\n",
    "        }\n",
    "\n",
    "      // Write the block sub-matrix to global memory;\n",
    "      // each thread writes one element\n",
    "      const uint c = wB * %(BLOCK_SIZE)s * by + %(BLOCK_SIZE)s * bx;\n",
    "      C[c + wB * ty + tx] = Csub;\n",
    "    }\n",
    "    \"\"\"\n",
    "\n",
    "# define the (square) matrix size\n",
    "MATRIX_dimx = 6; MATRIX_dimy = 4; MATRIX_dimt = 2\n",
    "\n",
    "# define size of blocks and tiles sub-matrix \n",
    "# (we assume that the block size is same as tile size)\n",
    "TILE_SIZE = 2\n",
    "BLOCK_SIZE = TILE_SIZE\n",
    "\n",
    "# create two random square matrices\n",
    "a_cpu = np.random.randn(MATRIX_dimy,MATRIX_dimt).astype(np.float32)\n",
    "b_cpu = np.random.randn(MATRIX_dimt,MATRIX_dimx).astype(np.float32)\n",
    "\n",
    "# compute reference on the CPU to verify GPU computation\n",
    "c_cpu = np.dot(a_cpu, b_cpu)\n",
    "\n",
    "# transfer host (CPU) memory to device (GPU) memory \n",
    "a_gpu = gpuarray.to_gpu(a_cpu) \n",
    "b_gpu = gpuarray.to_gpu(b_cpu)\n",
    "\n",
    "# create empty gpu array for the result (C = A * B)\n",
    "c_gpu = gpuarray.empty((MATRIX_dimy,MATRIX_dimx), np.float32)\n",
    "\n",
    "# get the kernel code from the template \n",
    "# by specifying the constants MATRIX_SIZE and BLOCK_SIZE\n",
    "kernel_code = kernel_code_template % { \n",
    "    'MATRIX_dimx': MATRIX_dimx,\n",
    "    'MATRIX_dimy': MATRIX_dimy,\n",
    "    'MATRIX_dimt': MATRIX_dimt,\n",
    "    'BLOCK_SIZE': BLOCK_SIZE,\n",
    "    }\n",
    "\n",
    "# compile the kernel code\n",
    "mod = compiler.SourceModule(kernel_code)\n",
    "\n",
    "# get the kernel function from the compiled module\n",
    "matrixmul = mod.get_function(\"MatrixMulKernel\")\n",
    "\n",
    "# call the kernel on the card\n",
    "matrixmul(\n",
    "    # inputs\n",
    "    a_gpu, b_gpu, \n",
    "    # output\n",
    "    c_gpu, \n",
    "    # grid of multiple blocks\n",
    "    grid = (MATRIX_dimy // TILE_SIZE, MATRIX_dimx // TILE_SIZE),\n",
    "    # block of multiple threads\n",
    "    block = (TILE_SIZE, TILE_SIZE, 1), \n",
    "    )\n",
    "\n",
    "# print the results\n",
    "print \"-\" * 80\n",
    "print \"Matrix C (GPU):\"\n",
    "print c_gpu.get()\n",
    "\n",
    "print \"-\" * 80\n",
    "print \"Matrix C (CPU):\"\n",
    "print c_cpu\n",
    "\n",
    "print \"-\" * 80\n",
    "print \"Matrix C (GPU-CPU):\"\n",
    "print c_gpu.get()-c_cpu\n",
    "\n",
    "print \"-\" * 80\n",
    "print \"CPU-GPU difference:\"\n",
    "print c_cpu - c_gpu.get()\n",
    "print \"L2 norm:\", la.norm(c_cpu - c_gpu.get())\n",
    "np.allclose(c_cpu, c_gpu.get())\n"
   ]
  },
  {
   "cell_type": "code",
   "execution_count": 31,
   "metadata": {
    "collapsed": false
   },
   "outputs": [
    {
     "name": "stdout",
     "output_type": "stream",
     "text": [
      "--------------------------------------------------------------------------------\n",
      "CPU-GPU Difference: \n",
      "(6.38962e-08+0j)\n",
      "('CPU Time ', 0.00627899169921875)\n",
      "('GPU Time ', 0.0005390644073486328)\n"
     ]
    },
    {
     "data": {
      "text/plain": [
       "True"
      ]
     },
     "execution_count": 31,
     "metadata": {},
     "output_type": "execute_result"
    }
   ],
   "source": [
    "# attempt to do matrix multiplication for complex numbers\n",
    "import pycuda.autoinit\n",
    "from pycuda import driver, compiler, gpuarray, tools    \n",
    "import numpy as np\n",
    "from time import *\n",
    "\n",
    "kernel_code_template = \"\"\"\n",
    "            #include <cuComplex.h>\n",
    "    __global__ void MatrixMulKernel(cuFloatComplex *A, cuFloatComplex *B, cuFloatComplex *C)\n",
    "    {\n",
    "          const uint wA = %(MATRIX_dimt)s;\n",
    "          //const uint hA = %(MATRIX_dimy)s;\n",
    "          const uint wB = %(MATRIX_dimx)s;\n",
    "          //const uint hB = %(MATRIX_dimt)s;\n",
    "\n",
    "          // Block index\n",
    "          const uint bx = blockIdx.x;\n",
    "          const uint by = blockIdx.y;\n",
    "\n",
    "          // Thread index\n",
    "          const uint tx = threadIdx.x;\n",
    "          const uint ty = threadIdx.y;\n",
    "\n",
    "          // Index of the first sub-matrix of A processed by the block\n",
    "          const uint aBegin = wA * %(BLOCK_dimy)s * by;\n",
    "          // Index of the last sub-matrix of A processed by the block\n",
    "          const uint aEnd   = aBegin + wA - 1;\n",
    "          // Step size used to iterate through the sub-matrices of A\n",
    "          const uint aStep = %(BLOCK_dimt)s;\n",
    "\n",
    "          // Index of the first sub-matrix of B processed by the block\n",
    "          const int bBegin = %(BLOCK_dimx)s * bx;\n",
    "          // Step size used to iterate through the sub-matrcies of B\n",
    "          const uint bStep = %(BLOCK_dimt)s * wB;\n",
    "\n",
    "          // The element of the block sub-matrix that is computed by the thread\n",
    "          cuFloatComplex Csub = make_cuFloatComplex(0,0);\n",
    "          \n",
    "          // Loop over all the sub-matrices of A and B required to compute the block sub-matrix\n",
    "          for (int a = aBegin, b = bBegin;\n",
    "               a <= aEnd;\n",
    "           a += aStep, b += bStep)\n",
    "          {\n",
    "               // Shared memory for the sub-matrix of A\n",
    "           __shared__ cuFloatComplex As[%(BLOCK_dimy)s][%(BLOCK_dimt)s];\n",
    "           // Shared memory for the sub-matrix of B\n",
    "           __shared__ cuFloatComplex Bs[%(BLOCK_dimt)s][%(BLOCK_dimx)s];\n",
    "\n",
    "           // Load the matrices from global memory to shared memory;\n",
    "           // each thread loads one element of each matrix, access error if BLOCK not square\n",
    "           As[ty][tx] = make_cuFloatComplex(cuCrealf(A[a + wA*ty + tx]),cuCimagf(A[a + wA*ty + tx]));\n",
    "           Bs[ty][tx] = make_cuFloatComplex(cuCrealf(B[b + wB*ty + tx]),cuCimagf(B[b + wA*ty + tx]));\n",
    "\n",
    "           // Synchronize to make sure the matrices are loaded\n",
    "           __syncthreads();\n",
    "\n",
    "           // Multiply the two matrcies together\n",
    "           // each thread computes one element of the block sub-matrix\n",
    "           for(int k = 0; k < %(BLOCK_dimt)s; ++k)\n",
    "           {\n",
    "                Csub = cuCaddf(Csub,cuCmulf(As[ty][k],Bs[k][tx]));\n",
    "           } \n",
    "\n",
    "           // Synchronize to make sure that the preceding computation\n",
    "           // is done before loading two new sub-matrices of A and B in the next iteration\n",
    "           __syncthreads();\n",
    "         }\n",
    "\n",
    "         // Write the block sub-matrix to global memory\n",
    "         // each thread writes one element\n",
    "         const uint c = wB * %(BLOCK_dimy)s * by + %(BLOCK_dimx)s * bx;\n",
    "         C[c + wB*ty + tx] = make_cuFloatComplex(cuCrealf(Csub), cuCimagf(Csub));\n",
    "    }\n",
    "    \"\"\"\n",
    "\n",
    "MATRIX_dimx = 400; MATRIX_dimy = 400; MATRIX_dimt = 400\n",
    "TILE_dimx  = 20; TILE_dimy = 20\n",
    "BLOCK_dimx = TILE_dimx; BLOCK_dimy = TILE_dimy\n",
    "\n",
    "a_cpu = np.random.rand(MATRIX_dimy,MATRIX_dimt).astype(np.complex64)\n",
    "b_cpu = np.random.rand(MATRIX_dimt,MATRIX_dimx).astype(np.complex64)\n",
    "\n",
    "# a_cpu[:,:] = 1 + 1j*0\n",
    "# b_cpu[:,:] = 1 + 1j*2\n",
    "\n",
    "# compute reference on the CPU to verify GPU computation\n",
    "t1 = time()\n",
    "c_cpu = np.dot(a_cpu, b_cpu)\n",
    "t2 = time()\n",
    "t_cpu = t2-t1\n",
    "\n",
    "# transfer host (CPU) memory to device (GPU) memory\n",
    "a_gpu = gpuarray.to_gpu(a_cpu.astype(np.complex64))\n",
    "b_gpu = gpuarray.to_gpu(b_cpu.astype(np.complex64))\n",
    "\n",
    "# create empty gpuarry for the result (C = A * B)\n",
    "c_gpu = gpuarray.empty((MATRIX_dimy, MATRIX_dimx), np.complex64)\n",
    "\n",
    "# get the kernel code from the template\n",
    "# by specifying the constant MATRIX_SIZE\n",
    "kernel_code = kernel_code_template % {\n",
    "        'MATRIX_dimx': MATRIX_dimx,\n",
    "        'MATRIX_dimy': MATRIX_dimy,\n",
    "        'MATRIX_dimt': MATRIX_dimt,\n",
    "        'BLOCK_dimx': BLOCK_dimx,\n",
    "        'BLOCK_dimy': BLOCK_dimy,\n",
    "        'BLOCK_dimt': BLOCK_dimy,\n",
    "        }\n",
    "\n",
    "# compile the kernel code\n",
    "mod = compiler.SourceModule(kernel_code)\n",
    "\n",
    "# get the kernel function from the compiled module\n",
    "matrixmul = mod.get_function(\"MatrixMulKernel\")\n",
    "\n",
    "# call the kernel on the card\n",
    "t1 = time()\n",
    "matrixmul(\n",
    "        # inputs\n",
    "    a_gpu, b_gpu,\n",
    "    # output\n",
    "    c_gpu,\n",
    "    # grid of multiple blocks\n",
    "    grid = (MATRIX_dimy/TILE_dimy, MATRIX_dimx/TILE_dimx),\n",
    "    # block of multiple threads\n",
    "    block = (TILE_dimy, TILE_dimx, 1),\n",
    "    )\n",
    "t2 = time()\n",
    "t_gpu = t2-t1\n",
    "\n",
    "# # print the results\n",
    "# print(\"-\" * 80)\n",
    "# print(\"Matrix A (GPU): \")\n",
    "# #print(a_gpu.get())\n",
    "\n",
    "# print(\"-\" * 80)\n",
    "# print(\"Matrix B (GPU): \")\n",
    "# #print(b_gpu.get())\n",
    "\n",
    "# print(\"-\" * 80)\n",
    "# print(\"Matrix C (GPU): \")\n",
    "# #print(c_gpu.get())\n",
    "\n",
    "# print(\"-\" * 80)\n",
    "# print(\"Matrix C (CPU): \")\n",
    "# #print(c_cpu)\n",
    "\n",
    "print(\"-\" * 80)\n",
    "print(\"CPU-GPU Difference: \")\n",
    "print(np.mean(c_cpu-c_gpu.get()))\n",
    "\n",
    "print(\"CPU Time \", t_cpu)\n",
    "print(\"GPU Time \", t_gpu)\n",
    "\n",
    "np.allclose(c_cpu**2, (c_gpu*c_gpu).get() )     "
   ]
  },
  {
   "cell_type": "code",
   "execution_count": 26,
   "metadata": {
    "collapsed": false
   },
   "outputs": [],
   "source": [
    "cc_gpu = c_gpu.get()\n"
   ]
  },
  {
   "cell_type": "code",
   "execution_count": 15,
   "metadata": {
    "collapsed": false
   },
   "outputs": [
    {
     "data": {
      "text/plain": [
       "<matplotlib.colorbar.Colorbar at 0x7fd35df16590>"
      ]
     },
     "execution_count": 15,
     "metadata": {},
     "output_type": "execute_result"
    },
    {
     "data": {
      "image/png": "[encoded data removed]",
      "text/plain": [
       "<matplotlib.figure.Figure at 0x7fd35f86f790>"
      ]
     },
     "metadata": {},
     "output_type": "display_data"
    }
   ],
   "source": [
    "import pylab as plt\n",
    "plt.imshow(np.abs(cc_gpu))\n",
    "plt.colorbar()"
   ]
  },
  {
   "cell_type": "code",
   "execution_count": 45,
   "metadata": {
    "collapsed": false
   },
   "outputs": [
    {
     "name": "stdout",
     "output_type": "stream",
     "text": [
      "('CPU Time ', 0.013840913772583008)\n",
      "('GPU Time ', 0.0008690357208251953)\n",
      "L2 norm: 0.0106906\n"
     ]
    },
    {
     "data": {
      "text/plain": [
       "False"
      ]
     },
     "execution_count": 45,
     "metadata": {},
     "output_type": "execute_result"
    }
   ],
   "source": [
    "# attempt to do matrix multiplication for real numbers\n",
    "import pycuda.autoinit\n",
    "from numpy import linalg as la\n",
    "from pycuda import driver, compiler, gpuarray, tools\n",
    "import numpy as np\n",
    "from time import *\n",
    "\n",
    "import skcuda.linalg as culinalg\n",
    "import skcuda.misc as cumisc\n",
    "culinalg.init()\n",
    "\n",
    "\n",
    "# define the (square) matrix size\n",
    "MATRIX_dimx = 6300; MATRIX_dimy = 51; MATRIX_dimt = 1000\n",
    "\n",
    "# create two random square matrices\n",
    "a_cpu = np.random.randn(MATRIX_dimy,MATRIX_dimt).astype(np.float32)\n",
    "b_cpu = np.random.randn(MATRIX_dimt,MATRIX_dimx).astype(np.float32)\n",
    "\n",
    "# compute reference on the CPU to verify GPU computation\n",
    "t1 = time()\n",
    "c_cpu = np.dot(a_cpu, b_cpu)\n",
    "t2 = time()\n",
    "t_cpu = t2-t1\n",
    "# transfer host (CPU) memory to device (GPU) memory \n",
    "a_gpu = gpuarray.to_gpu(a_cpu) \n",
    "b_gpu = gpuarray.to_gpu(b_cpu)\n",
    "\n",
    "# create empty gpu array for the result (C = A * B)\n",
    "#c_gpu = gpuarray.empty((MATRIX_dimy,MATRIX_dimx), np.float32)\n",
    "t1 = time()\n",
    "c_gpu = culinalg.dot(a_gpu, b_gpu)\n",
    "t2 = time()\n",
    "t_gpu = t2-t1\n",
    "\n",
    "# print the results\n",
    "# print \"-\" * 80\n",
    "# print \"Matrix C (GPU):\"\n",
    "# print c_gpu.get()\n",
    "\n",
    "# print \"-\" * 80\n",
    "# print \"Matrix C (CPU):\"\n",
    "# print c_cpu\n",
    "\n",
    "# print \"-\" * 80\n",
    "# print \"Matrix C (GPU-CPU):\"\n",
    "# print c_gpu.get()-c_cpu\n",
    "\n",
    "# print \"-\" * 80\n",
    "# print \"CPU-GPU difference:\"\n",
    "# print c_cpu - c_gpu.get()\n",
    "\n",
    "print(\"CPU Time \", t_cpu)\n",
    "print(\"GPU Time \", t_gpu)\n",
    "\n",
    "print \"L2 norm:\", la.norm(c_cpu - c_gpu.get())\n",
    "np.allclose(c_cpu**2, (c_gpu*c_gpu).get())"
   ]
  },
  {
   "cell_type": "code",
   "execution_count": 48,
   "metadata": {
    "collapsed": false
   },
   "outputs": [
    {
     "name": "stdout",
     "output_type": "stream",
     "text": [
      "(51, 1000) (1000, 6300)\n",
      "(50400, 8)\n"
     ]
    }
   ],
   "source": [
    "import pycuda.driver as drv\n",
    "import pycuda.tools\n",
    "import pycuda.autoinit\n",
    "from pycuda.compiler import SourceModule\n",
    "import pycuda.gpuarray as gpuarray\n",
    "from pycuda.elementwise import ElementwiseKernel\n",
    "import skcuda.linalg as culinalg\n",
    "import skcuda.misc as cumisc\n",
    "culinalg.init()\n",
    "\n",
    "gauss_wfn = ElementwiseKernel(\n",
    "    \"float *dt, float *output, float res2\",\n",
    "    \"output[i] = exp(-dt[i]*dt[i]/(2*res2))\",\n",
    "    \"gauss\",)\n",
    "#post_process = ElementwiseKernel()\n",
    "def _pass_gpu(dt, lres, data, wgts, shapeO):\n",
    "    dt_gpu = gpuarray.to_gpu(dt.astype(np.float32))\n",
    "    wgtfn_gpu = gpuarray.to_gpu(np.empty(dt.shape, dtype=np.complex64))\n",
    "    gauss_wfn(dt_gpu, wgtfn_gpu, lres**2)\n",
    "    print wgtfn_gpu.strides\n",
    "\n",
    "    data_gpu = gpuarray.to_gpu(data.astype(np.complex64))\n",
    "    wgts_gpu = gpuarray.to_gpu(wgts.astype(np.complex64))\n",
    "    wgtgrid_gpu = culinalg.dot(wgts_gpu, wgtfn_gpu, transa='T')\n",
    "    sumgrid_gpu = culinalg.dot(wgts_gpu*data_gpu, wgtfn_gpu, transa='T')\n",
    "    \n",
    "    return wgtgrid_gpu.get(), sumgrid_gpu.get()\n",
    "    \n",
    "def lst_grid_pycuda(lsts, data, wgts=None, lstbins=6300, wgtfunc=lambda dt,res: np.exp(-dt**2/(2*res**2))):\n",
    "    lstgrid = np.linspace(0, 2*np.pi, lstbins)\n",
    "    lstres = lstgrid[1]-lstgrid[0]\n",
    "    if wgts is None: wgts = np.where(np.abs(data) == 0, 0, 1.)\n",
    "    dt = lstgrid.reshape((1,-1))-lsts.reshape((-1,1))\n",
    "    shapeO = (lstgrid.shape[0], data.shape[1])\n",
    "    print wgts.T.shape, dt.shape\n",
    "    wgtgrid, sumgrid = _pass_gpu(dt,lstres, data, wgts, shapeO)\n",
    "    datagrid = np.where(wgtgrid > 1e-10, sumgrid/wgtgrid, 0)\n",
    "    \n",
    "    return datagrid, wgtgrid.real\n",
    "lsts = np.linspace(0, 6.28, 1000, dtype=np.float32)\n",
    "data = np.random.rand(1000, 51).astype(np.float32)\n",
    "datagrid, wgtgrid = lst_grid_pycuda(lsts,data)\n"
   ]
  },
  {
   "cell_type": "code",
   "execution_count": 49,
   "metadata": {
    "collapsed": false
   },
   "outputs": [
    {
     "data": {
      "text/plain": [
       "array([[ 0.61537695 +0.00000000e+00j,  0.61537689 +0.00000000e+00j,\n",
       "         0.61537701 +6.77707779e-10j, ...,  0.22169779 -4.80654538e-09j,\n",
       "         0.22169779 +0.00000000e+00j,  0.22169781 +0.00000000e+00j],\n",
       "       [ 0.63818723 +0.00000000e+00j,  0.63818723 +0.00000000e+00j,\n",
       "         0.63818729 -6.77707779e-10j, ...,  0.19406676 +0.00000000e+00j,\n",
       "         0.19406678 -6.07256911e-09j,  0.19406678 +0.00000000e+00j],\n",
       "       [ 0.19179368 +0.00000000e+00j,  0.19179368 +0.00000000e+00j,\n",
       "         0.19179368 +0.00000000e+00j, ...,  0.16683832 +0.00000000e+00j,\n",
       "         0.16683830 -6.07256911e-09j,  0.16683832 +1.28365985e-09j],\n",
       "       ..., \n",
       "       [ 0.07382081 +0.00000000e+00j,  0.07382081 +0.00000000e+00j,\n",
       "         0.07382081 +3.38853889e-10j, ...,  0.42266464 +0.00000000e+00j,\n",
       "         0.42266461 +0.00000000e+00j,  0.42266467 +0.00000000e+00j],\n",
       "       [ 0.17698529 +0.00000000e+00j,  0.17698528 +1.70888437e-09j,\n",
       "         0.17698531 +5.08280862e-10j, ...,  0.11673353 +0.00000000e+00j,\n",
       "         0.11673353 -3.03628456e-09j,  0.11673354 +6.41829923e-10j],\n",
       "       [ 0.91836238 +0.00000000e+00j,  0.91836244 +0.00000000e+00j,\n",
       "         0.91836238 +0.00000000e+00j, ...,  0.45291170 +9.61309077e-09j,\n",
       "         0.45291165 -1.21451382e-08j,  0.45291170 +0.00000000e+00j]], dtype=complex64)"
      ]
     },
     "execution_count": 49,
     "metadata": {},
     "output_type": "execute_result"
    }
   ],
   "source": [
    "datagrid\n"
   ]
  },
  {
   "cell_type": "code",
   "execution_count": null,
   "metadata": {
    "collapsed": true
   },
   "outputs": [],
   "source": []
  }
 ],
 "metadata": {
  "anaconda-cloud": {},
  "kernelspec": {
   "display_name": "Python [conda env:envPAPER]",
   "language": "python",
   "name": "conda-env-envPAPER-py"
  },
  "language_info": {
   "codemirror_mode": {
    "name": "ipython",
    "version": 2
   },
   "file_extension": ".py",
   "mimetype": "text/x-python",
   "name": "python",
   "nbconvert_exporter": "python",
   "pygments_lexer": "ipython2",
   "version": "2.7.12"
  }
 },
 "nbformat": 4,
 "nbformat_minor": 1
}
